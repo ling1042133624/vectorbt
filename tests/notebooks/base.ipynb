{
 "cells": [
  {
   "cell_type": "markdown",
   "metadata": {},
   "source": [
    "# base"
   ]
  },
  {
   "cell_type": "code",
   "execution_count": 1,
   "metadata": {},
   "source": [
    "import vectorbt as vbt\n",
    "\n",
    "from vectorbt.base import column_grouper, array_wrapper, combine_fns, index_fns, indexing, reshape_fns"
   ],
   "outputs": []
  },
  {
   "cell_type": "code",
   "execution_count": 2,
   "metadata": {
    "Collapsed": "false"
   },
   "source": [
    "import numpy as np\n",
    "import pandas as pd\n",
    "from datetime import datetime\n",
    "from numba import njit\n",
    "import itertools"
   ],
   "outputs": []
  },
  {
   "cell_type": "code",
   "execution_count": 3,
   "metadata": {},
   "source": [
    "v1 = 0\n",
    "a1 = np.array([1])\n",
    "a2 = np.array([1, 2, 3])\n",
    "a3 = np.array([[1, 2, 3]])\n",
    "a4 = np.array([[1], [2], [3]])\n",
    "a5 = np.array([[1, 2, 3], [4, 5, 6], [7, 8, 9]])\n",
    "sr_none = pd.Series([1])\n",
    "print(sr_none)\n",
    "sr1 = pd.Series([1], index=pd.Index(['x1'], name='i1'), name='a1')\n",
    "print(sr1)\n",
    "sr2 = pd.Series([1, 2, 3], index=pd.Index(['x2', 'y2', 'z2'], name='i2'), name='a2')\n",
    "print(sr2)\n",
    "df_none = pd.DataFrame([[1]])\n",
    "print(df_none)\n",
    "df1 = pd.DataFrame(\n",
    "    [[1]], \n",
    "    index=pd.Index(['x3'], name='i3'), \n",
    "    columns=pd.Index(['a3'], name='c3'))\n",
    "print(df1)\n",
    "df2 = pd.DataFrame(\n",
    "    [[1], [2], [3]], \n",
    "    index=pd.Index(['x4', 'y4', 'z4'], name='i4'), \n",
    "    columns=pd.Index(['a4'], name='c4'))\n",
    "print(df2)\n",
    "df3 = pd.DataFrame(\n",
    "    [[1, 2, 3]], \n",
    "    index=pd.Index(['x5'], name='i5'), \n",
    "    columns=pd.Index(['a5', 'b5', 'c5'], name='c5'))\n",
    "print(df3)\n",
    "df4 = pd.DataFrame(\n",
    "    [[1, 2, 3], [4, 5, 6], [7, 8, 9]], \n",
    "    index=pd.Index(['x6', 'y6', 'z6'], name='i6'), \n",
    "    columns=pd.Index(['a6', 'b6', 'c6'], name='c6'))\n",
    "print(df4)\n",
    "\n",
    "multi_i = pd.MultiIndex.from_arrays([['x7', 'y7', 'z7'], ['x8', 'y8', 'z8']], names=['i7', 'i8']) \n",
    "multi_c = pd.MultiIndex.from_arrays([['a7', 'b7', 'c7'], ['a8', 'b8', 'c8']], names=['c7', 'c8'])\n",
    "df5 = pd.DataFrame([[1, 2, 3], [4, 5, 6], [7, 8, 9]], index=multi_i, columns=multi_c)\n",
    "print(df5)"
   ],
   "outputs": []
  },
  {
   "cell_type": "markdown",
   "metadata": {},
   "source": [
    "## column_grouper"
   ]
  },
  {
   "cell_type": "code",
   "execution_count": 4,
   "metadata": {},
   "source": [
    "some_columns = pd.MultiIndex.from_arrays([\n",
    "    [1, 1, 1, 1, 0, 0, 0, 0],\n",
    "    [3, 3, 2, 2, 1, 1, 0, 0],\n",
    "    [7, 6, 5, 4, 3, 2, 1, 0]\n",
    "], names=['first', 'second', 'third'])"
   ],
   "outputs": []
  },
  {
   "cell_type": "code",
   "execution_count": 5,
   "metadata": {},
   "source": [
    "print(column_grouper.group_by_to_index(some_columns, group_by=0))\n",
    "print(column_grouper.group_by_to_index(some_columns, group_by='first'))\n",
    "print(column_grouper.group_by_to_index(some_columns, group_by=[0, 1]))\n",
    "print(column_grouper.group_by_to_index(some_columns, group_by=['first', 'second']))\n",
    "print(column_grouper.group_by_to_index(some_columns, group_by=np.array([3, 2, 1, 1, 1, 0, 0, 0])))\n",
    "print(column_grouper.group_by_to_index(some_columns, group_by=pd.Index([3, 2, 1, 1, 1, 0, 0, 0], name='fourth')))"
   ],
   "outputs": []
  },
  {
   "cell_type": "code",
   "execution_count": 6,
   "metadata": {},
   "source": [
    "# group_arr comes always from 0 to n, also keeps order\n",
    "print(column_grouper.get_groups_and_index(some_columns, 0))\n",
    "print(column_grouper.get_groups_and_index(some_columns, [0, 1]))\n",
    "print(column_grouper.get_groups_and_index(some_columns, np.array([3, 2, 1, 1, 1, 0, 0, 0])))"
   ],
   "outputs": []
  },
  {
   "cell_type": "code",
   "execution_count": 7,
   "metadata": {},
   "source": [
    "print(column_grouper.get_group_lens_nb(np.array([0, 0, 0, 0, 1, 1, 1, 1])))\n",
    "print(column_grouper.get_group_lens_nb(np.array([0, 1])))\n",
    "print(column_grouper.get_group_lens_nb(np.array([0, 0])))\n",
    "print(column_grouper.get_group_lens_nb(np.array([0])))\n",
    "print(column_grouper.get_group_lens_nb(np.array([])))"
   ],
   "outputs": []
  },
  {
   "cell_type": "code",
   "execution_count": 8,
   "metadata": {},
   "source": [
    "print(column_grouper.ColumnGrouper(sr2.to_frame().columns, group_by=np.array([0])).group_by)\n",
    "print(column_grouper.ColumnGrouper(sr2.to_frame().columns, group_by=np.array([0])).get_groups_and_columns())\n",
    "print(column_grouper.ColumnGrouper(sr2.to_frame().columns, group_by=np.array([0])).get_groups())\n",
    "print(column_grouper.ColumnGrouper(sr2.to_frame().columns, group_by=np.array([0])).get_columns())\n",
    "print(column_grouper.ColumnGrouper(sr2.to_frame().columns, group_by=np.array([0])).get_group_lens())\n",
    "print(column_grouper.ColumnGrouper(sr2.to_frame().columns, group_by=np.array([0])).get_group_start_idxs())\n",
    "print(column_grouper.ColumnGrouper(sr2.to_frame().columns, group_by=np.array([0])).get_group_end_idxs())"
   ],
   "outputs": []
  },
  {
   "cell_type": "code",
   "execution_count": 9,
   "metadata": {},
   "source": [
    "print(column_grouper.ColumnGrouper(df4.columns, group_by=np.array([0, 0, 1])).group_by)\n",
    "print(column_grouper.ColumnGrouper(df4.columns, group_by=np.array([0, 0, 1])).get_groups_and_columns())\n",
    "print(column_grouper.ColumnGrouper(df4.columns, group_by=np.array([0, 0, 1])).get_groups())\n",
    "print(column_grouper.ColumnGrouper(df4.columns, group_by=np.array([0, 0, 1])).get_columns())\n",
    "print(column_grouper.ColumnGrouper(df4.columns, group_by=np.array([0, 0, 1])).get_group_lens())\n",
    "print(column_grouper.ColumnGrouper(df4.columns, group_by=np.array([0, 0, 1])).get_group_start_idxs())\n",
    "print(column_grouper.ColumnGrouper(df4.columns, group_by=np.array([0, 0, 1])).get_group_end_idxs())"
   ],
   "outputs": []
  },
  {
   "cell_type": "markdown",
   "metadata": {},
   "source": [
    "## array_wrapper"
   ]
  },
  {
   "cell_type": "code",
   "execution_count": 10,
   "metadata": {},
   "source": [
    "sr2_wrapper = array_wrapper.ArrayWrapper.from_obj(sr2)\n",
    "df4_wrapper = array_wrapper.ArrayWrapper.from_obj(df4)\n",
    "\n",
    "sr2_wrapper_co = sr2_wrapper.copy(column_only_select=True)\n",
    "df4_wrapper_co = df4_wrapper.copy(column_only_select=True)\n",
    "\n",
    "sr2_grouped_wrapper = sr2_wrapper.copy(group_by=np.array([0]))\n",
    "df4_grouped_wrapper = df4_wrapper.copy(group_by=np.array([0, 0, 1]))\n",
    "\n",
    "sr2_grouped_wrapper_co = sr2_grouped_wrapper.copy(column_only_select=True)\n",
    "df4_grouped_wrapper_co = df4_grouped_wrapper.copy(column_only_select=True)"
   ],
   "outputs": []
  },
  {
   "cell_type": "code",
   "execution_count": 11,
   "metadata": {},
   "source": [
    "# test indexing\n",
    "print(sr2_wrapper.indexing_func_meta(lambda x: x.iloc[:2])[1:])\n",
    "print(df4_wrapper.indexing_func_meta(lambda x: x.iloc[0, :2])[1:])\n",
    "print(df4_wrapper.indexing_func_meta(lambda x: x.iloc[:2, 0])[1:])\n",
    "print(df4_wrapper.indexing_func_meta(lambda x: x.iloc[:2, [0]])[1:])\n",
    "print(df4_wrapper.indexing_func_meta(lambda x: x.iloc[:2, :2])[1:])"
   ],
   "outputs": []
  },
  {
   "cell_type": "code",
   "execution_count": 12,
   "metadata": {},
   "source": [
    "print(df4_wrapper_co.indexing_func_meta(lambda x: x.iloc[0])[1:])\n",
    "print(df4_wrapper_co.indexing_func_meta(lambda x: x.iloc[[0]])[1:])\n",
    "print(df4_wrapper_co.indexing_func_meta(lambda x: x.iloc[:2])[1:])"
   ],
   "outputs": []
  },
  {
   "cell_type": "code",
   "execution_count": 13,
   "metadata": {},
   "source": [
    "print(sr2_grouped_wrapper.indexing_func_meta(lambda x: x.iloc[:2])[1:])\n",
    "print(df4_grouped_wrapper.indexing_func_meta(lambda x: x.iloc[:2, 0])[1:])\n",
    "print(df4_grouped_wrapper.indexing_func_meta(lambda x: x.iloc[:2, 1])[1:])\n",
    "print(df4_grouped_wrapper.indexing_func_meta(lambda x: x.iloc[:2, [1]])[1:])\n",
    "print(df4_grouped_wrapper.indexing_func_meta(lambda x: x.iloc[:2, :2])[1:])"
   ],
   "outputs": []
  },
  {
   "cell_type": "code",
   "execution_count": 14,
   "metadata": {},
   "source": [
    "print(df4_grouped_wrapper_co.indexing_func_meta(lambda x: x.iloc[0])[1:])\n",
    "print(df4_grouped_wrapper_co.indexing_func_meta(lambda x: x.iloc[1])[1:])\n",
    "print(df4_grouped_wrapper_co.indexing_func_meta(lambda x: x.iloc[[1]])[1:])\n",
    "print(df4_grouped_wrapper_co.indexing_func_meta(lambda x: x.iloc[:2])[1:])"
   ],
   "outputs": []
  },
  {
   "cell_type": "code",
   "execution_count": 15,
   "metadata": {},
   "source": [
    "print(sr2_wrapper.iloc[:2].index)\n",
    "print(sr2_wrapper.iloc[:2].columns)\n",
    "print(sr2_wrapper.iloc[:2].ndim)\n",
    "\n",
    "print(df4_wrapper.iloc[0, :2].index)\n",
    "print(df4_wrapper.iloc[0, :2].columns)\n",
    "print(df4_wrapper.iloc[0, :2].ndim)\n",
    "\n",
    "print(df4_wrapper.iloc[:2, 0].index)\n",
    "print(df4_wrapper.iloc[:2, 0].columns)\n",
    "print(df4_wrapper.iloc[:2, 0].ndim)\n",
    "\n",
    "print(df4_wrapper.iloc[:2, [0]].index)\n",
    "print(df4_wrapper.iloc[:2, [0]].columns)\n",
    "print(df4_wrapper.iloc[:2, [0]].ndim)\n",
    "\n",
    "print(df4_wrapper.iloc[:2, :2].index)\n",
    "print(df4_wrapper.iloc[:2, :2].columns)\n",
    "print(df4_wrapper.iloc[:2, :2].ndim)"
   ],
   "outputs": []
  },
  {
   "cell_type": "code",
   "execution_count": 16,
   "metadata": {},
   "source": [
    "print(df4_wrapper_co.iloc[0].index)\n",
    "print(df4_wrapper_co.iloc[0].columns)\n",
    "print(df4_wrapper_co.iloc[0].ndim)\n",
    "\n",
    "print(df4_wrapper_co.iloc[[0]].index)\n",
    "print(df4_wrapper_co.iloc[[0]].columns)\n",
    "print(df4_wrapper_co.iloc[[0]].ndim)\n",
    "\n",
    "print(df4_wrapper_co.iloc[:2].index)\n",
    "print(df4_wrapper_co.iloc[:2].columns)\n",
    "print(df4_wrapper_co.iloc[:2].ndim)"
   ],
   "outputs": []
  },
  {
   "cell_type": "code",
   "execution_count": 17,
   "metadata": {},
   "source": [
    "print(sr2_grouped_wrapper.iloc[:2].index)\n",
    "print(sr2_grouped_wrapper.iloc[:2].columns)\n",
    "print(sr2_grouped_wrapper.iloc[:2].ndim)\n",
    "print(sr2_grouped_wrapper.iloc[:2].grouped_ndim)\n",
    "print(sr2_grouped_wrapper.iloc[:2].grouper.group_by)\n",
    "\n",
    "print(df4_grouped_wrapper.iloc[:2, 0].index)\n",
    "print(df4_grouped_wrapper.iloc[:2, 0].columns)\n",
    "print(df4_grouped_wrapper.iloc[:2, 0].ndim)\n",
    "print(df4_grouped_wrapper.iloc[:2, 0].grouped_ndim)\n",
    "print(df4_grouped_wrapper.iloc[:2, 0].grouper.group_by)\n",
    "\n",
    "print(df4_grouped_wrapper.iloc[:2, 1].index)\n",
    "print(df4_grouped_wrapper.iloc[:2, 1].columns)\n",
    "print(df4_grouped_wrapper.iloc[:2, 1].ndim)\n",
    "print(df4_grouped_wrapper.iloc[:2, 1].grouped_ndim)\n",
    "print(df4_grouped_wrapper.iloc[:2, 1].grouper.group_by)\n",
    "\n",
    "print(df4_grouped_wrapper.iloc[:2, [1]].index)\n",
    "print(df4_grouped_wrapper.iloc[:2, [1]].columns)\n",
    "print(df4_grouped_wrapper.iloc[:2, [1]].ndim)\n",
    "print(df4_grouped_wrapper.iloc[:2, [1]].grouped_ndim)\n",
    "print(df4_grouped_wrapper.iloc[:2, [1]].grouper.group_by)\n",
    "\n",
    "print(df4_grouped_wrapper.iloc[:2, :2].index)\n",
    "print(df4_grouped_wrapper.iloc[:2, :2].columns)\n",
    "print(df4_grouped_wrapper.iloc[:2, :2].ndim)\n",
    "print(df4_grouped_wrapper.iloc[:2, :2].grouped_ndim)\n",
    "print(df4_grouped_wrapper.iloc[:2, :2].grouper.group_by)"
   ],
   "outputs": []
  },
  {
   "cell_type": "code",
   "execution_count": 18,
   "metadata": {},
   "source": [
    "print(df4_grouped_wrapper_co.iloc[0].index)\n",
    "print(df4_grouped_wrapper_co.iloc[0].columns)\n",
    "print(df4_grouped_wrapper_co.iloc[0].ndim)\n",
    "print(df4_grouped_wrapper_co.iloc[0].grouped_ndim)\n",
    "print(df4_grouped_wrapper_co.iloc[0].grouper.group_by)\n",
    "\n",
    "print(df4_grouped_wrapper_co.iloc[1].index)\n",
    "print(df4_grouped_wrapper_co.iloc[1].columns)\n",
    "print(df4_grouped_wrapper_co.iloc[1].ndim)\n",
    "print(df4_grouped_wrapper_co.iloc[1].grouped_ndim)\n",
    "print(df4_grouped_wrapper_co.iloc[1].grouper.group_by)\n",
    "\n",
    "print(df4_grouped_wrapper_co.iloc[[1]].index)\n",
    "print(df4_grouped_wrapper_co.iloc[[1]].columns)\n",
    "print(df4_grouped_wrapper_co.iloc[[1]].ndim)\n",
    "print(df4_grouped_wrapper_co.iloc[[1]].grouped_ndim)\n",
    "print(df4_grouped_wrapper_co.iloc[[1]].grouper.group_by)\n",
    "\n",
    "print(df4_grouped_wrapper_co.iloc[:2].index)\n",
    "print(df4_grouped_wrapper_co.iloc[:2].columns)\n",
    "print(df4_grouped_wrapper_co.iloc[:2].ndim)\n",
    "print(df4_grouped_wrapper_co.iloc[:2].grouped_ndim)\n",
    "print(df4_grouped_wrapper_co.iloc[:2].grouper.group_by)"
   ],
   "outputs": []
  },
  {
   "cell_type": "code",
   "execution_count": 19,
   "metadata": {},
   "source": [
    "big_df = pd.DataFrame(np.empty((1000, 1000)))\n",
    "\n",
    "big_df_wrapper = array_wrapper.ArrayWrapper.from_obj(big_df)\n",
    "big_df_wrapper_co = big_df_wrapper.copy(column_only_select=True)\n",
    "big_df_grouped_wrapper = df4_wrapper.copy(group_by=np.array([0, 0, 1]))\n",
    "big_df_grouped_wrapper_co = big_df_grouped_wrapper.copy(column_only_select=True)"
   ],
   "outputs": []
  },
  {
   "cell_type": "code",
   "execution_count": 20,
   "metadata": {},
   "source": [
    "%timeit big_df_wrapper.iloc[:, 0]\n",
    "%timeit big_df_wrapper.iloc[:, :]\n",
    "\n",
    "%timeit big_df_wrapper_co.iloc[0]\n",
    "%timeit big_df_wrapper_co.iloc[:]\n",
    "\n",
    "%timeit big_df_grouped_wrapper.iloc[:, 0]\n",
    "%timeit big_df_grouped_wrapper.iloc[:, :]\n",
    "\n",
    "%timeit big_df_grouped_wrapper_co.iloc[0]\n",
    "%timeit big_df_grouped_wrapper_co.iloc[:]"
   ],
   "outputs": []
  },
  {
   "cell_type": "code",
   "execution_count": 21,
   "metadata": {},
   "source": [
    "print(df4_grouped_wrapper_co.wrap(np.array([[1, 2], [3, 4], [5, 6]])))\n",
    "print(df4_grouped_wrapper_co.wrap_reduced(np.array([1, 2])))\n",
    "\n",
    "print(df4_grouped_wrapper_co.wrap(np.array([[1, 2, 3], [4, 5, 6], [7, 8, 9]]), group_by=False))\n",
    "print(df4_grouped_wrapper_co.wrap_reduced(np.array([1, 2, 3]), group_by=False))"
   ],
   "outputs": []
  },
  {
   "cell_type": "code",
   "execution_count": 22,
   "metadata": {},
   "source": [
    "print(df4_grouped_wrapper_co.iloc[0].wrap(np.array([1, 2, 3])))\n",
    "print(df4_grouped_wrapper_co.iloc[0].wrap_reduced(np.array([1])))\n",
    "\n",
    "print(df4_grouped_wrapper_co.iloc[0].wrap(np.array([[1, 2], [3, 4], [5, 6]]), group_by=False))\n",
    "print(df4_grouped_wrapper_co.iloc[0].wrap_reduced(np.array([1, 2]), group_by=False))"
   ],
   "outputs": []
  },
  {
   "cell_type": "code",
   "execution_count": 23,
   "metadata": {},
   "source": [
    "print(df4_grouped_wrapper_co.iloc[[0]].wrap(np.array([1, 2, 3])))\n",
    "print(df4_grouped_wrapper_co.iloc[[0]].wrap_reduced(np.array([1])))\n",
    "\n",
    "print(df4_grouped_wrapper_co.iloc[[0]].wrap(np.array([[1, 2], [3, 4], [5, 6]]), group_by=False))\n",
    "print(df4_grouped_wrapper_co.iloc[[0]].wrap_reduced(np.array([1, 2]), group_by=False))"
   ],
   "outputs": []
  },
  {
   "cell_type": "code",
   "execution_count": 24,
   "metadata": {},
   "source": [
    "print(df4_grouped_wrapper_co.iloc[1].wrap(np.array([1, 2, 3])))\n",
    "print(df4_grouped_wrapper_co.iloc[1].wrap_reduced(np.array([1])))\n",
    "\n",
    "print(df4_grouped_wrapper_co.iloc[1].wrap(np.array([1, 2, 3]), group_by=False))\n",
    "print(df4_grouped_wrapper_co.iloc[1].wrap_reduced(np.array([1]), group_by=False))"
   ],
   "outputs": []
  },
  {
   "cell_type": "code",
   "execution_count": 25,
   "metadata": {},
   "source": [
    "print(df4_grouped_wrapper_co.iloc[[1]].wrap(np.array([1, 2, 3])))\n",
    "print(df4_grouped_wrapper_co.iloc[[1]].wrap_reduced(np.array([1])))\n",
    "\n",
    "print(df4_grouped_wrapper_co.iloc[[1]].wrap(np.array([1, 2, 3]), group_by=False))\n",
    "print(df4_grouped_wrapper_co.iloc[[1]].wrap_reduced(np.array([1]), group_by=False))"
   ],
   "outputs": []
  },
  {
   "cell_type": "markdown",
   "metadata": {},
   "source": [
    "## index_fns"
   ]
  },
  {
   "cell_type": "code",
   "execution_count": 26,
   "metadata": {},
   "source": [
    "i1 = index_fns.index_from_values([0.1, 0.2], name='a')\n",
    "i2 = index_fns.index_from_values(np.tile(np.arange(1, 4)[:, None][:, None], (1, 3, 3)), name='b')\n",
    "i3 = index_fns.index_from_values(np.random.uniform(size=(3, 3, 3)), name='c')\n",
    "\n",
    "print(i1)\n",
    "print(i2)\n",
    "print(i3)"
   ],
   "outputs": []
  },
  {
   "cell_type": "code",
   "execution_count": 27,
   "metadata": {},
   "source": [
    "print(index_fns.repeat_index(i2, 3))\n",
    "print(index_fns.repeat_index(multi_i, 3))"
   ],
   "outputs": []
  },
  {
   "cell_type": "code",
   "execution_count": 28,
   "metadata": {},
   "source": [
    "print(index_fns.tile_index(i2, 3))\n",
    "print(index_fns.tile_index(multi_i, 3))"
   ],
   "outputs": []
  },
  {
   "cell_type": "code",
   "execution_count": 29,
   "metadata": {},
   "source": [
    "i23 = index_fns.stack_indexes((i2, i3))\n",
    "i32 = index_fns.stack_indexes((i3, i2))\n",
    "\n",
    "print(i23)\n",
    "print(i32)\n",
    "\n",
    "print(index_fns.stack_indexes((multi_i, multi_i), drop_duplicates=False))\n",
    "print(index_fns.stack_indexes((multi_i, multi_i), drop_duplicates=True))\n",
    "print(index_fns.stack_indexes(([0, 1], ['a', 'b']), drop_redundant=False))\n",
    "print(index_fns.stack_indexes(([0, 1], ['a', 'b']), drop_redundant=True))\n",
    "print(index_fns.stack_indexes((pd.Index([0, 1], name='test_name'), ['a', 'b']), drop_redundant=True))\n",
    "print(index_fns.stack_indexes((['a', 'a'], ['a', 'b']), drop_redundant=True))\n",
    "print(index_fns.stack_indexes((pd.Index(['a', 'a'], name='test_name'), ['a', 'b']), drop_redundant=True))"
   ],
   "outputs": []
  },
  {
   "cell_type": "code",
   "execution_count": 30,
   "metadata": {},
   "source": [
    "print(index_fns.combine_indexes((pd.Index([1]), pd.Index([2, 3])), drop_duplicates=False))\n",
    "print(index_fns.combine_indexes((pd.Index([1]), pd.Index([2, 3])), drop_duplicates=True))\n",
    "print(index_fns.combine_indexes((pd.Index([1, 2]), pd.Index([3])), drop_duplicates=False))\n",
    "print(index_fns.combine_indexes((pd.Index([1, 2]), pd.Index([3])), drop_duplicates=True))\n",
    "print(index_fns.combine_indexes((i1, i2))) # combine_fns uses stack\n",
    "print(index_fns.combine_indexes((i2, i3)))\n",
    "print(index_fns.combine_indexes((i23, i23)))"
   ],
   "outputs": []
  },
  {
   "cell_type": "code",
   "execution_count": 31,
   "metadata": {},
   "source": [
    "print(index_fns.drop_levels(multi_i, 'i10'))\n",
    "print(index_fns.drop_levels(multi_i, ['i7', 'i8']))"
   ],
   "outputs": []
  },
  {
   "cell_type": "code",
   "execution_count": 32,
   "metadata": {},
   "source": [
    "print(index_fns.rename_levels(pd.Index([1, 2, 3], name='i'), {'i': 'f'}))\n",
    "print(index_fns.rename_levels(multi_i, {'i7': 'f7', 'i8': 'f8'}))"
   ],
   "outputs": []
  },
  {
   "cell_type": "code",
   "execution_count": 33,
   "metadata": {},
   "source": [
    "print(index_fns.select_levels(multi_i, 'i7'))\n",
    "print(index_fns.select_levels(multi_i, ['i7']))\n",
    "print(index_fns.select_levels(multi_i, ['i7', 'i8']))"
   ],
   "outputs": []
  },
  {
   "cell_type": "code",
   "execution_count": 34,
   "metadata": {},
   "source": [
    "print(index_fns.drop_redundant_levels(pd.Index(['a', 'a']))) # ignores levels with single element\n",
    "print(index_fns.drop_redundant_levels(pd.Index(['a', 'a'], name='hi')))\n",
    "print(index_fns.drop_redundant_levels(pd.MultiIndex.from_arrays([['a', 'a'], ['b', 'b']], names=['hi', 'hi2'])))\n",
    "print(index_fns.drop_redundant_levels(pd.MultiIndex.from_arrays([['a', 'b'], ['a', 'b']], names=['hi', 'hi2'])))\n",
    "print(index_fns.drop_redundant_levels(pd.MultiIndex.from_arrays([[0, 1], ['a', 'b']], names=[None, 'hi2']))) # ignores 0-to-n\n",
    "print(index_fns.drop_redundant_levels(pd.MultiIndex.from_arrays([[0, 2], ['a', 'b']], names=[None, 'hi2']))) # legit\n",
    "print(index_fns.drop_redundant_levels(pd.MultiIndex.from_arrays([[0, 1], ['a', 'b']], names=['hi', 'hi2']))) # legit (w/ name)"
   ],
   "outputs": []
  },
  {
   "cell_type": "code",
   "execution_count": 35,
   "metadata": {},
   "source": [
    "print(index_fns.drop_duplicate_levels(pd.MultiIndex.from_arrays(\n",
    "    [[1, 2, 3], [1, 2, 3]], names=['a', 'a'])))\n",
    "print(index_fns.drop_duplicate_levels(pd.MultiIndex.from_tuples(\n",
    "    [(0, 1, 2, 1), ('a', 'b', 'c', 'b')], names=['x', 'y', 'z', 'y']), keep='last'))\n",
    "print(index_fns.drop_duplicate_levels(pd.MultiIndex.from_tuples(\n",
    "    [(0, 1, 2, 1), ('a', 'b', 'c', 'b')], names=['x', 'y', 'z', 'y']), keep='first'))"
   ],
   "outputs": []
  },
  {
   "cell_type": "code",
   "execution_count": 36,
   "metadata": {},
   "source": [
    "multi_c1 = pd.MultiIndex.from_arrays([['a8', 'b8']], names=['c8'])\n",
    "multi_c2 = pd.MultiIndex.from_arrays([['a7', 'a7', 'c7', 'c7'], ['a8', 'b8', 'a8', 'b8']], names=['c7', 'c8'])\n",
    "\n",
    "index_fns.align_index_to(multi_c1, multi_c2)"
   ],
   "outputs": []
  },
  {
   "cell_type": "code",
   "execution_count": 37,
   "metadata": {},
   "source": [
    "print(index_fns.pick_levels(multi_c, required_levels=[], optional_levels=[]))\n",
    "print(index_fns.pick_levels(multi_c, required_levels=['c8'], optional_levels=[]))\n",
    "print(index_fns.pick_levels(multi_c, required_levels=['c8'], optional_levels=[]))\n",
    "print(index_fns.pick_levels(multi_c, required_levels=['c7', 'c8'], optional_levels=[]))\n",
    "print(index_fns.pick_levels(multi_c, required_levels=['c8', None], optional_levels=[]))\n",
    "print(index_fns.pick_levels(multi_c, required_levels=[None, None], optional_levels=[]))\n",
    "print(index_fns.pick_levels(multi_c, required_levels=[None], optional_levels=['c8']))\n",
    "print(index_fns.pick_levels(multi_c, required_levels=['c8'], optional_levels=[None]))\n",
    "print(index_fns.pick_levels(multi_c, required_levels=[], optional_levels=['c7', 'c8']))"
   ],
   "outputs": []
  },
  {
   "cell_type": "markdown",
   "metadata": {},
   "source": [
    "## reshape_fns"
   ]
  },
  {
   "cell_type": "code",
   "execution_count": 38,
   "metadata": {},
   "source": [
    "print(reshape_fns.soft_to_ndim(a2, 1))\n",
    "print(reshape_fns.soft_to_ndim(sr2, 1))\n",
    "print(reshape_fns.soft_to_ndim(df2, 1))\n",
    "print(reshape_fns.soft_to_ndim(df4, 1)) # cannot -> do nothing\n",
    "print(reshape_fns.soft_to_ndim(a2, 2))\n",
    "print(reshape_fns.soft_to_ndim(sr2, 2))\n",
    "print(reshape_fns.soft_to_ndim(df2, 2))"
   ],
   "outputs": []
  },
  {
   "cell_type": "code",
   "execution_count": 39,
   "metadata": {},
   "source": [
    "print(reshape_fns.to_1d(None))\n",
    "print(reshape_fns.to_1d(v1))\n",
    "print(reshape_fns.to_1d(a1))\n",
    "print(reshape_fns.to_1d(a2))\n",
    "print(reshape_fns.to_1d(sr1))\n",
    "print(reshape_fns.to_1d(sr2))\n",
    "print(reshape_fns.to_1d(df1))\n",
    "print(reshape_fns.to_1d(df2))"
   ],
   "outputs": []
  },
  {
   "cell_type": "code",
   "execution_count": 40,
   "metadata": {},
   "source": [
    "print(reshape_fns.to_2d(None))\n",
    "print(reshape_fns.to_2d(v1))\n",
    "print(reshape_fns.to_2d(a1))\n",
    "print(reshape_fns.to_2d(a2))\n",
    "print(reshape_fns.to_2d(sr1))\n",
    "print(reshape_fns.to_2d(sr2))\n",
    "print(reshape_fns.to_2d(sr2, expand_axis=0))"
   ],
   "outputs": []
  },
  {
   "cell_type": "code",
   "execution_count": 41,
   "metadata": {},
   "source": [
    "print(reshape_fns.repeat(v1, 3, axis=0))\n",
    "print(reshape_fns.repeat(a1, 3, axis=0))\n",
    "print(reshape_fns.repeat(a2, 3, axis=0))\n",
    "print(reshape_fns.repeat(a3, 3, axis=0))\n",
    "print(reshape_fns.repeat(a4, 3, axis=0))\n",
    "print(reshape_fns.repeat(a5, 3, axis=0))\n",
    "print(reshape_fns.repeat(sr_none, 3, axis=0))\n",
    "print(reshape_fns.repeat(sr1, 3, axis=0))\n",
    "print(reshape_fns.repeat(sr2, 3, axis=0))\n",
    "print(reshape_fns.repeat(df_none, 3, axis=0))\n",
    "print(reshape_fns.repeat(df1, 3, axis=0))\n",
    "print(reshape_fns.repeat(df2, 3, axis=0))\n",
    "print(reshape_fns.repeat(df3, 3, axis=0))\n",
    "print(reshape_fns.repeat(df4, 3, axis=0))"
   ],
   "outputs": []
  },
  {
   "cell_type": "code",
   "execution_count": 42,
   "metadata": {},
   "source": [
    "print(reshape_fns.repeat(v1, 3, axis=1))\n",
    "print(reshape_fns.repeat(a1, 3, axis=1))\n",
    "print(reshape_fns.repeat(a2, 3, axis=1))\n",
    "print(reshape_fns.repeat(a3, 3, axis=1))\n",
    "print(reshape_fns.repeat(a4, 3, axis=1))\n",
    "print(reshape_fns.repeat(a5, 3, axis=1))\n",
    "print(reshape_fns.repeat(sr_none, 3, axis=1))\n",
    "print(reshape_fns.repeat(sr1, 3, axis=1))\n",
    "print(reshape_fns.repeat(sr2, 3, axis=1))\n",
    "print(reshape_fns.repeat(df_none, 3, axis=1))\n",
    "print(reshape_fns.repeat(df1, 3, axis=1))\n",
    "print(reshape_fns.repeat(df2, 3, axis=1))\n",
    "print(reshape_fns.repeat(df3, 3, axis=1))\n",
    "print(reshape_fns.repeat(df4, 3, axis=1))"
   ],
   "outputs": []
  },
  {
   "cell_type": "code",
   "execution_count": 43,
   "metadata": {},
   "source": [
    "print(reshape_fns.tile(v1, 3, axis=0))\n",
    "print(reshape_fns.tile(a1, 3, axis=0))\n",
    "print(reshape_fns.tile(a2, 3, axis=0))\n",
    "print(reshape_fns.tile(a3, 3, axis=0))\n",
    "print(reshape_fns.tile(a4, 3, axis=0))\n",
    "print(reshape_fns.tile(a5, 3, axis=0))\n",
    "print(reshape_fns.tile(sr_none, 3, axis=0))\n",
    "print(reshape_fns.tile(sr1, 3, axis=0))\n",
    "print(reshape_fns.tile(sr2, 3, axis=0))\n",
    "print(reshape_fns.tile(df_none, 3, axis=0))\n",
    "print(reshape_fns.tile(df1, 3, axis=0))\n",
    "print(reshape_fns.tile(df2, 3, axis=0))\n",
    "print(reshape_fns.tile(df3, 3, axis=0))\n",
    "print(reshape_fns.tile(df4, 3, axis=0))"
   ],
   "outputs": []
  },
  {
   "cell_type": "code",
   "execution_count": 44,
   "metadata": {},
   "source": [
    "print(reshape_fns.tile(v1, 3, axis=1))\n",
    "print(reshape_fns.tile(a1, 3, axis=1))\n",
    "print(reshape_fns.tile(a2, 3, axis=1))\n",
    "print(reshape_fns.tile(a3, 3, axis=1))\n",
    "print(reshape_fns.tile(a4, 3, axis=1))\n",
    "print(reshape_fns.tile(a5, 3, axis=1))\n",
    "print(reshape_fns.tile(sr_none, 3, axis=1))\n",
    "print(reshape_fns.tile(sr1, 3, axis=1))\n",
    "print(reshape_fns.tile(sr2, 3, axis=1))\n",
    "print(reshape_fns.tile(df_none, 3, axis=1))\n",
    "print(reshape_fns.tile(df1, 3, axis=1))\n",
    "print(reshape_fns.tile(df2, 3, axis=1))\n",
    "print(reshape_fns.tile(df3, 3, axis=1))\n",
    "print(reshape_fns.tile(df4, 3, axis=1))"
   ],
   "outputs": []
  },
  {
   "cell_type": "code",
   "execution_count": 45,
   "metadata": {},
   "source": [
    "# Change broadcasting rules globally\n",
    "vbt.settings.broadcasting['index_from'] = 'stack' # default is 'strict'\n",
    "vbt.settings.broadcasting['columns_from'] = 'stack'\n",
    "\n",
    "print(vbt.settings.broadcasting)"
   ],
   "outputs": []
  },
  {
   "cell_type": "code",
   "execution_count": 46,
   "metadata": {},
   "source": [
    "# Broadcasting arrays\n",
    "args = [\n",
    "    ('v1', v1),\n",
    "    ('a1', a1),\n",
    "    ('a2', a2),\n",
    "    ('a3', a3),\n",
    "    ('a4', a4),\n",
    "    ('a5', a5)\n",
    "]\n",
    "arg_combs = list(itertools.combinations_with_replacement(args, 2))\n",
    "\n",
    "for (n1, arg1), (n2, arg2) in arg_combs:\n",
    "    print(arg1)\n",
    "    print(arg2)\n",
    "    print(\"================\")\n",
    "    arg1, arg2 = reshape_fns.broadcast(arg1, arg2)\n",
    "    print(arg1)\n",
    "    print(arg2)\n",
    "    print()"
   ],
   "outputs": []
  },
  {
   "cell_type": "code",
   "execution_count": 47,
   "metadata": {},
   "source": [
    "# Broadcasting series\n",
    "args = [\n",
    "    ('sr_none', sr_none),\n",
    "    ('sr1', sr1),\n",
    "    ('sr2', sr2)\n",
    "]\n",
    "arg_combs = list(itertools.combinations_with_replacement(args, 2))\n",
    "\n",
    "for (n1, arg1), (n2, arg2) in arg_combs:\n",
    "    print(n1 + '+' + n2)\n",
    "    print(arg1)\n",
    "    print(arg2)\n",
    "    print(\"================\")\n",
    "    arg1, arg2 = reshape_fns.broadcast(arg1, arg2)\n",
    "    print(arg1)\n",
    "    print(arg2)\n",
    "    print()"
   ],
   "outputs": []
  },
  {
   "cell_type": "code",
   "execution_count": 48,
   "metadata": {},
   "source": [
    "# Broadcasting arrays and series\n",
    "a_args = [\n",
    "    ('v1', v1),\n",
    "    ('a1', a1),\n",
    "    ('a2', a2),\n",
    "    ('a3', a3),\n",
    "    ('a4', a4),\n",
    "    ('a5', a5)\n",
    "]\n",
    "sr_args = [\n",
    "    ('sr_none', sr_none),\n",
    "    ('sr1', sr1),\n",
    "    ('sr2', sr2)\n",
    "]\n",
    "arg_combs = list(itertools.product(a_args, sr_args))\n",
    "\n",
    "for (n1, arg1), (n2, arg2) in arg_combs:\n",
    "    print(n1 + '+' + n2)\n",
    "    print(arg1)\n",
    "    print(arg2)\n",
    "    print(\"================\")\n",
    "    arg1, arg2 = reshape_fns.broadcast(arg1, arg2)\n",
    "    print(arg1)\n",
    "    print(arg2)\n",
    "    print()"
   ],
   "outputs": []
  },
  {
   "cell_type": "code",
   "execution_count": 49,
   "metadata": {},
   "source": [
    "# Broadcasting dataframes\n",
    "args = [\n",
    "    ('df_none', df_none),\n",
    "    ('df1', df1),\n",
    "    ('df2', df2),\n",
    "    ('df3', df3),\n",
    "    ('df4', df4)\n",
    "]\n",
    "arg_combs = list(itertools.combinations_with_replacement(args, 2))\n",
    "\n",
    "for (n1, arg1), (n2, arg2) in arg_combs:\n",
    "    print(n1 + '+' + n2)\n",
    "    print(arg1)\n",
    "    print(arg2)\n",
    "    print(\"================\")\n",
    "    arg1, arg2 = reshape_fns.broadcast(arg1, arg2)\n",
    "    print(arg1)\n",
    "    print(arg2)\n",
    "    print()"
   ],
   "outputs": []
  },
  {
   "cell_type": "code",
   "execution_count": 50,
   "metadata": {},
   "source": [
    "# Broadcasting arrays and dataframes\n",
    "a_args = [\n",
    "    ('v1', v1),\n",
    "    ('a1', a1),\n",
    "    ('a2', a2),\n",
    "    ('a3', a3),\n",
    "    ('a4', a4),\n",
    "    ('a5', a5)\n",
    "]\n",
    "sr_args = [\n",
    "    ('df_none', df_none),\n",
    "    ('df1', df1),\n",
    "    ('df2', df2),\n",
    "    ('df3', df3),\n",
    "    ('df4', df4)\n",
    "]\n",
    "arg_combs = list(itertools.product(a_args, sr_args))\n",
    "\n",
    "for (n1, arg1), (n2, arg2) in arg_combs:\n",
    "    print(n1 + '+' + n2)\n",
    "    print(arg1)\n",
    "    print(arg2)\n",
    "    print(\"================\")\n",
    "    arg1, arg2 = reshape_fns.broadcast(arg1, arg2)\n",
    "    print(arg1)\n",
    "    print(arg2)\n",
    "    print()"
   ],
   "outputs": []
  },
  {
   "cell_type": "code",
   "execution_count": 51,
   "metadata": {},
   "source": [
    "# Broadcasting series and dataframes\n",
    "a_args = [\n",
    "    ('sr_none', sr_none),\n",
    "    ('sr1', sr1),\n",
    "    ('sr2', sr2)\n",
    "]\n",
    "sr_args = [\n",
    "    ('df_none', df_none),\n",
    "    ('df1', df1),\n",
    "    ('df2', df2),\n",
    "    ('df3', df3),\n",
    "    ('df4', df4)\n",
    "]\n",
    "arg_combs = list(itertools.product(a_args, sr_args))\n",
    "\n",
    "for (n1, arg1), (n2, arg2) in arg_combs:\n",
    "    print(n1 + '+' + n2)\n",
    "    print(arg1)\n",
    "    print(arg2)\n",
    "    print(\"================\")\n",
    "    arg1, arg2 = reshape_fns.broadcast(arg1, arg2)\n",
    "    print(arg1)\n",
    "    print(arg2)\n",
    "    print()"
   ],
   "outputs": []
  },
  {
   "cell_type": "code",
   "execution_count": 52,
   "metadata": {},
   "source": [
    "[np.broadcast_to(x, (3, 3)) for x in (0, a1, a2, sr_none, sr1, sr2)]"
   ],
   "outputs": []
  },
  {
   "cell_type": "code",
   "execution_count": 53,
   "metadata": {},
   "source": [
    "# Broadcasting all at once\n",
    "for i in reshape_fns.broadcast(\n",
    "    0, a1, a2, sr_none, sr1, sr2,\n",
    "    to_shape=(3, 3),\n",
    "    index_from='stack',\n",
    "    columns_from='stack'\n",
    "):\n",
    "    print(i)"
   ],
   "outputs": []
  },
  {
   "cell_type": "code",
   "execution_count": 54,
   "metadata": {},
   "source": [
    "# Broadcasting all at once\n",
    "for i in reshape_fns.broadcast(\n",
    "    v1, a1, a2, a3, a4, a5, sr_none, sr1, sr2, df_none, df1, df2, df3, df4,\n",
    "    index_from='stack',\n",
    "    columns_from='stack'\n",
    "):\n",
    "    print(i)"
   ],
   "outputs": []
  },
  {
   "cell_type": "code",
   "execution_count": 55,
   "metadata": {},
   "source": [
    "for i in reshape_fns.broadcast(\n",
    "    v1, a1, a2, a3, a4, a5, sr_none, sr1, sr2, df_none, df1, df2, df3, df4,\n",
    "    index_from=None, # use as-is\n",
    "    columns_from=None\n",
    "):\n",
    "    print(i)"
   ],
   "outputs": []
  },
  {
   "cell_type": "code",
   "execution_count": 56,
   "metadata": {},
   "source": [
    "for i in reshape_fns.broadcast(\n",
    "    v1, a1, a2, a3, a4, a5, sr_none, sr1, sr2, df_none, df1, df2, df3, df4,\n",
    "    index_from=-1, # take index from the last dataframe\n",
    "    columns_from=-1\n",
    "):\n",
    "    print(i)"
   ],
   "outputs": []
  },
  {
   "cell_type": "code",
   "execution_count": 57,
   "metadata": {},
   "source": [
    "for i in reshape_fns.broadcast(\n",
    "    v1, a1, a2, a3, a4, a5, sr_none, sr1, sr2, df_none, df1, df2, df3, df4,\n",
    "    index_from=multi_i, # specify manually\n",
    "    columns_from=multi_c\n",
    "):\n",
    "    print(i)"
   ],
   "outputs": []
  },
  {
   "cell_type": "code",
   "execution_count": 58,
   "metadata": {},
   "source": [
    "# Do not clean columns\n",
    "vbt.settings.broadcasting['drop_duplicates'] = False\n",
    "vbt.settings.broadcasting['drop_redundant'] = False\n",
    "vbt.settings.broadcasting['ignore_sr_names'] = False\n",
    "\n",
    "for i in reshape_fns.broadcast(\n",
    "    v1, a1, a2, a3, a4, a5, sr_none, sr1, sr2, df_none, df1, df2, df3, df4,\n",
    "    index_from='stack', # stack but do not clean\n",
    "    columns_from='stack'\n",
    "):\n",
    "    print(i)\n",
    "    \n",
    "vbt.settings.broadcasting.reset()"
   ],
   "outputs": []
  },
  {
   "cell_type": "code",
   "execution_count": 59,
   "metadata": {},
   "source": [
    "big_a = np.empty((1000, 1000))"
   ],
   "outputs": []
  },
  {
   "cell_type": "code",
   "execution_count": 60,
   "metadata": {},
   "source": [
    "print(reshape_fns.broadcast(np.empty((1,)), big_a)[0].flags)\n",
    "%timeit reshape_fns.broadcast(np.empty((1,)), big_a)\n",
    "\n",
    "print(reshape_fns.broadcast(np.empty((1,)), big_a, require_kwargs={'requirements': 'W'})[0].flags)\n",
    "%timeit reshape_fns.broadcast(np.empty((1,)), big_a, require_kwargs={'requirements': 'W'})\n",
    "\n",
    "print(reshape_fns.broadcast(np.empty((1,)), big_a, require_kwargs={'requirements': 'C'})[0].flags)\n",
    "%timeit reshape_fns.broadcast(np.empty((1,)), big_a, require_kwargs={'requirements': 'C'})\n",
    "\n",
    "print(reshape_fns.broadcast(np.empty((1,)), big_a, require_kwargs={'requirements': 'F'})[0].flags)\n",
    "%timeit reshape_fns.broadcast(np.empty((1,)), big_a, require_kwargs={'requirements': 'F'})"
   ],
   "outputs": []
  },
  {
   "cell_type": "code",
   "execution_count": 61,
   "metadata": {},
   "source": [
    "print(reshape_fns.broadcast(v1, df4, to_pd=False))\n",
    "print(reshape_fns.broadcast(v1, df4, to_pd=True))"
   ],
   "outputs": []
  },
  {
   "cell_type": "code",
   "execution_count": 62,
   "metadata": {},
   "source": [
    "# One-side broadcasting, default behaviour is copying index/columns from the second argument\n",
    "print(reshape_fns.broadcast_to(sr1, sr1))\n",
    "print(reshape_fns.broadcast_to(sr1, sr2))\n",
    "print(reshape_fns.broadcast_to(sr1, df1))\n",
    "print(reshape_fns.broadcast_to(sr1, df2))\n",
    "print(reshape_fns.broadcast_to(sr1, df3))\n",
    "print(reshape_fns.broadcast_to(sr1, df4))"
   ],
   "outputs": []
  },
  {
   "cell_type": "code",
   "execution_count": 63,
   "metadata": {},
   "source": [
    "# Broadcasting first element to be an array out of the second argument\n",
    "print(reshape_fns.broadcast_to_array_of(0.1, v1))\n",
    "print(reshape_fns.broadcast_to_array_of([0.1], v1))\n",
    "print(reshape_fns.broadcast_to_array_of([0.1, 0.2], v1))"
   ],
   "outputs": []
  },
  {
   "cell_type": "code",
   "execution_count": 64,
   "metadata": {},
   "source": [
    "print(reshape_fns.broadcast_to_array_of(0.1, sr2))\n",
    "print(reshape_fns.broadcast_to_array_of([0.1], sr2))\n",
    "print(reshape_fns.broadcast_to_array_of([0.1, 0.2], sr2))\n",
    "print(reshape_fns.broadcast_to_array_of([[0.1, 0.2, 0.3], [0.4, 0.5, 0.6]], sr2))"
   ],
   "outputs": []
  },
  {
   "cell_type": "code",
   "execution_count": 65,
   "metadata": {},
   "source": [
    "print(reshape_fns.broadcast_to_array_of(0.1, df2))\n",
    "print(reshape_fns.broadcast_to_array_of([0.1], df2))\n",
    "print(reshape_fns.broadcast_to_array_of([0.1, 0.2], df2))\n",
    "print(reshape_fns.broadcast_to_array_of([[[0.1], [0.2], [0.3]], [[0.4], [0.5], [0.6]]], df2))"
   ],
   "outputs": []
  },
  {
   "cell_type": "code",
   "execution_count": 66,
   "metadata": {},
   "source": [
    "print(reshape_fns.broadcast_to_array_of(0.1, np.empty((2, 2, 2)))) # works even for ndim > 2"
   ],
   "outputs": []
  },
  {
   "cell_type": "code",
   "execution_count": 67,
   "metadata": {},
   "source": [
    "print(reshape_fns.broadcast_to_axis_of(10, np.empty((2,)), 0))\n",
    "print(reshape_fns.broadcast_to_axis_of(10, np.empty((2,)), 1))\n",
    "print(reshape_fns.broadcast_to_axis_of(10, np.empty((2, 3)), 0))\n",
    "print(reshape_fns.broadcast_to_axis_of(10, np.empty((2, 3)), 1))\n",
    "print(reshape_fns.broadcast_to_axis_of(10, np.empty((2, 3)), 2))"
   ],
   "outputs": []
  },
  {
   "cell_type": "code",
   "execution_count": 68,
   "metadata": {},
   "source": [
    "i = pd.MultiIndex.from_arrays([[1, 1, 2, 2], [3, 4, 3, 4], ['a', 'b', 'c', 'd']])\n",
    "sr = pd.Series([1, 2, 3, 4], index=i)\n",
    "print(reshape_fns.unstack_to_array(sr))"
   ],
   "outputs": []
  },
  {
   "cell_type": "code",
   "execution_count": 69,
   "metadata": {},
   "source": [
    "print(reshape_fns.make_symmetric(sr1))\n",
    "print(reshape_fns.make_symmetric(sr2))\n",
    "print(reshape_fns.make_symmetric(df1))\n",
    "print(reshape_fns.make_symmetric(df2))\n",
    "print(reshape_fns.make_symmetric(df3))\n",
    "print(reshape_fns.make_symmetric(df4))\n",
    "print(reshape_fns.make_symmetric(df5))\n",
    "print(reshape_fns.make_symmetric(pd.Series([1, 2, 3], name='yo'), sort=False))"
   ],
   "outputs": []
  },
  {
   "cell_type": "code",
   "execution_count": 70,
   "metadata": {},
   "source": [
    "print(reshape_fns.unstack_to_df(df5.iloc[0]))\n",
    "print(reshape_fns.unstack_to_df(sr, index_levels=0, column_levels=1))\n",
    "print(reshape_fns.unstack_to_df(sr, index_levels=(0, 1), column_levels=2))\n",
    "print(reshape_fns.unstack_to_df(sr, index_levels=0, column_levels=1, symmetric=True).columns)"
   ],
   "outputs": []
  },
  {
   "cell_type": "markdown",
   "metadata": {},
   "source": [
    "## indexing"
   ]
  },
  {
   "cell_type": "code",
   "execution_count": 71,
   "metadata": {},
   "source": [
    "PandasIndexer = indexing.PandasIndexer\n",
    "ParamIndexer = indexing.build_param_indexer(['param1', 'param2', 'tuple'])\n",
    "\n",
    "class H(PandasIndexer, ParamIndexer):\n",
    "    def __init__(self, a, param1_mapper, param2_mapper, tuple_mapper):\n",
    "        self.a = a\n",
    "        \n",
    "        self._param1_mapper = param1_mapper\n",
    "        self._param2_mapper = param2_mapper\n",
    "        self._tuple_mapper = tuple_mapper\n",
    "        \n",
    "        PandasIndexer.__init__(self, my_kw='PandasIndexer')\n",
    "        ParamIndexer.__init__(self, [param1_mapper, param2_mapper, tuple_mapper], my_kw='ParamIndexer')\n",
    "        \n",
    "    def indexing_func(self, pd_indexing_func, my_kw=None): \n",
    "        # As soon as you call iloc etc., performs it on each dataframe and mapper and returns a new class instance\n",
    "        print(my_kw)\n",
    "        param1_mapper = indexing.indexing_on_mapper(self._param1_mapper, self.a, pd_indexing_func)\n",
    "        param2_mapper = indexing.indexing_on_mapper(self._param2_mapper, self.a, pd_indexing_func)\n",
    "        tuple_mapper = indexing.indexing_on_mapper(self._tuple_mapper, self.a, pd_indexing_func)\n",
    "        return H(pd_indexing_func(self.a), param1_mapper, param2_mapper, tuple_mapper)\n",
    "        \n",
    "    @classmethod\n",
    "    def run(cls, a, params1, params2, level_names=('p1', 'p2')):\n",
    "        a = reshape_fns.to_2d(a)\n",
    "        # Build column hierarchy\n",
    "        params1_idx = pd.Index(params1, name=level_names[0])\n",
    "        params2_idx = pd.Index(params2, name=level_names[1])\n",
    "        params_idx = index_fns.stack_indexes((params1_idx, params2_idx))\n",
    "        new_columns = index_fns.combine_indexes((params_idx, a.columns))\n",
    "        \n",
    "        # Build mappers\n",
    "        param1_mapper = np.repeat(params1, len(a.columns))\n",
    "        param1_mapper = pd.Series(param1_mapper, index=new_columns, name=params1_idx.name)\n",
    "        \n",
    "        param2_mapper = np.repeat(params2, len(a.columns))\n",
    "        param2_mapper = pd.Series(param2_mapper, index=new_columns, name=params2_idx.name)\n",
    "        \n",
    "        tuple_mapper = list(zip(*list(map(lambda x: x.values, [param1_mapper, param2_mapper]))))\n",
    "        tuple_mapper = pd.Series(tuple_mapper, index=new_columns, name=(params1_idx.name, params2_idx.name))\n",
    "        \n",
    "        # Tile a to match the length of new_columns\n",
    "        a = array_wrapper.ArrayWrapper(a.index, new_columns, 2).wrap(reshape_fns.tile(a.values, 4, axis=1))\n",
    "        return cls(a, param1_mapper, param2_mapper, tuple_mapper)\n",
    "        \n",
    "\n",
    "# Similate an indicator with two params\n",
    "h = H.run(df4, [0.1, 0.1, 0.2, 0.2], [0.3, 0.4, 0.5, 0.6])\n",
    "\n",
    "print(df4)\n",
    "print(h.a)\n",
    "print(h._param1_mapper)\n",
    "print(h._param2_mapper)\n",
    "print(h._tuple_mapper)"
   ],
   "outputs": []
  },
  {
   "cell_type": "code",
   "execution_count": 72,
   "metadata": {},
   "source": [
    "# Indexing operations are delegated to the underlying dataframes\n",
    "print(h[(0.1, 0.3, 'a6')].a)\n",
    "print(h.loc[:, (0.1, 0.3, 'a6'):(0.1, 0.3, 'c6')].a)\n",
    "print(h.iloc[-2:, -2:].a)\n",
    "print(h.xs((0.1, 0.3), level=('p1', 'p2'), axis=1).a.columns)"
   ],
   "outputs": []
  },
  {
   "cell_type": "code",
   "execution_count": 73,
   "metadata": {},
   "source": [
    "print(h.param1_loc[0.1].a.columns)\n",
    "print(h.param1_loc[0.1:0.1].a)\n",
    "print(h.param1_loc[[0.1, 0.1]].a)"
   ],
   "outputs": []
  },
  {
   "cell_type": "code",
   "execution_count": 74,
   "metadata": {},
   "source": [
    "print(h.param2_loc[0.3].a)\n",
    "print(h.param2_loc[0.3:0.3].a)\n",
    "print(h.param2_loc[[0.3, 0.3]].a.columns)"
   ],
   "outputs": []
  },
  {
   "cell_type": "code",
   "execution_count": 75,
   "metadata": {},
   "source": [
    "print(h.tuple_loc[(0.1, 0.3)].a)\n",
    "print(h.tuple_loc[(0.1, 0.3):(0.1, 0.3)].a.columns)\n",
    "print(h.tuple_loc[[(0.1, 0.3), (0.1, 0.3)]].a.columns)"
   ],
   "outputs": []
  },
  {
   "cell_type": "markdown",
   "metadata": {},
   "source": [
    "## combine_fns"
   ]
  },
  {
   "cell_type": "code",
   "execution_count": 76,
   "metadata": {},
   "source": [
    "vbt.settings.broadcasting['index_from'] = 'stack'\n",
    "vbt.settings.broadcasting['columns_from'] = 'stack'"
   ],
   "outputs": []
  },
  {
   "cell_type": "code",
   "execution_count": 77,
   "metadata": {},
   "source": [
    "print(combine_fns.apply_and_concat_one(3, lambda i, x, a: x + a[i], sr2.values, [10, 20, 30]))\n",
    "print(combine_fns.apply_and_concat_one_nb(3, njit(lambda i, x, a: x + a[i]), sr2.values, (10, 20, 30)))\n",
    "\n",
    "print(combine_fns.apply_and_concat_one(3, lambda i, x, a: x + a[i], df4.values, [10, 20, 30]))\n",
    "print(combine_fns.apply_and_concat_one_nb(3, njit(lambda i, x, a: x + a[i]), df4.values, (10, 20, 30)))"
   ],
   "outputs": []
  },
  {
   "cell_type": "code",
   "execution_count": 78,
   "metadata": {},
   "source": [
    "print(combine_fns.apply_and_concat_multiple(3, lambda i, x, a: (x, x + a[i]), sr2.values, [10, 20, 30]))\n",
    "print(combine_fns.apply_and_concat_multiple_nb(3, njit(lambda i, x, a: (x, x + a[i])), sr2.values, (10, 20, 30)))\n",
    "\n",
    "print(combine_fns.apply_and_concat_multiple(3, lambda i, x, a: (x, x + a[i]), df4.values, [10, 20, 30]))\n",
    "print(combine_fns.apply_and_concat_multiple_nb(3, njit(lambda i, x, a: (x, x + a[i])), df4.values, (10, 20, 30)))"
   ],
   "outputs": []
  },
  {
   "cell_type": "code",
   "execution_count": 79,
   "metadata": {},
   "source": [
    "print(combine_fns.combine_and_concat(sr2.values, (sr2.values*2, sr2.values*3), lambda x, y, a: x + y + a, 100))\n",
    "print(combine_fns.combine_and_concat_nb(sr2.values, (sr2.values*2, sr2.values*3), njit(lambda x, y, a: x + y + a), 100))\n",
    "\n",
    "print(combine_fns.combine_and_concat(df4.values, (df4.values*2, df4.values*3), lambda x, y, a: x + y + a, 100))\n",
    "print(combine_fns.combine_and_concat_nb(df4.values, (df4.values*2, df4.values*3), njit(lambda x, y, a: x + y + a), 100))"
   ],
   "outputs": []
  },
  {
   "cell_type": "code",
   "execution_count": 80,
   "metadata": {},
   "source": [
    "print(combine_fns.combine_multiple((sr2.values, sr2.values*2, sr2.values*3), lambda x, y, a: x + y + a, 100))\n",
    "print(combine_fns.combine_multiple_nb((sr2.values, sr2.values*2, sr2.values*3), njit(lambda x, y, a: x + y + a), 100))\n",
    "\n",
    "print(combine_fns.combine_multiple((df4.values, df4.values*2, df4.values*3), lambda x, y, a: x + y + a, 100))\n",
    "print(combine_fns.combine_multiple_nb((df4.values, df4.values*2, df4.values*3), njit(lambda x, y, a: x + y + a), 100))"
   ],
   "outputs": []
  },
  {
   "cell_type": "markdown",
   "metadata": {},
   "source": [
    "## accessors"
   ]
  },
  {
   "cell_type": "code",
   "execution_count": 81,
   "metadata": {},
   "source": [
    "print(pd.Series.vbt.empty(5, index=np.arange(10, 15), name='a', fill_value=5))\n",
    "print(pd.DataFrame.vbt.empty((5, 3), index=np.arange(10, 15), columns=['a', 'b', 'c'], fill_value=5))\n",
    "\n",
    "print(pd.Series.vbt.empty_like(sr2, fill_value=5))\n",
    "print(pd.DataFrame.vbt.empty_like(df4, fill_value=5))"
   ],
   "outputs": []
  },
  {
   "cell_type": "code",
   "execution_count": 82,
   "metadata": {},
   "source": [
    "print(sr1.vbt.is_series())\n",
    "print(sr1.vbt.is_frame())\n",
    "print(df1.vbt.is_series())\n",
    "print(df2.vbt.is_frame())"
   ],
   "outputs": []
  },
  {
   "cell_type": "code",
   "execution_count": 83,
   "metadata": {},
   "source": [
    "print(sr2.vbt.wrapper.index)\n",
    "print(sr2.vbt.wrapper.columns)\n",
    "print(df4.vbt.wrapper.index)\n",
    "print(df4.vbt.wrapper.columns)"
   ],
   "outputs": []
  },
  {
   "cell_type": "code",
   "execution_count": 84,
   "metadata": {},
   "source": [
    "print(df1.vbt.apply_on_index(lambda idx: idx + '_yo', axis=0))\n",
    "print(df1.vbt.apply_on_index(lambda idx: idx + '_yo', axis=1))\n",
    "df1_copy = df1.copy()\n",
    "df1_copy.vbt.apply_on_index(lambda idx: idx + '_yo', axis=0, inplace=True)\n",
    "print(df1_copy)\n",
    "df1_copy.vbt.apply_on_index(lambda idx: idx + '_yo', axis=1, inplace=True)\n",
    "print(df1_copy)"
   ],
   "outputs": []
  },
  {
   "cell_type": "code",
   "execution_count": 85,
   "metadata": {},
   "source": [
    "print(sr2.vbt.to_1d_array())\n",
    "print(sr2.vbt.to_2d_array())"
   ],
   "outputs": []
  },
  {
   "cell_type": "code",
   "execution_count": 86,
   "metadata": {},
   "source": [
    "# It will try to return pd.Series\n",
    "print(sr2.vbt.wrapper.wrap(a2)) # returns sr\n",
    "print(sr2.vbt.wrapper.wrap(df2.values)) # returns sr\n",
    "print(sr2.vbt.wrapper.wrap(df2.values, index=df2.index, columns=df2.columns)) # returns sr\n",
    "print(sr2.vbt.wrapper.wrap(df4.values, columns=df4.columns)) # returns df\n",
    "print(sr2.vbt.wrapper.wrap(df4.values, index=df4.index, columns=df4.columns)) # returns df"
   ],
   "outputs": []
  },
  {
   "cell_type": "code",
   "execution_count": 87,
   "metadata": {},
   "source": [
    "# It will try to return pd.DataFrame\n",
    "print(df2.vbt.wrapper.wrap(a2)) # returns df\n",
    "print(df2.vbt.wrapper.wrap(sr2.values)) # returns df\n",
    "print(df2.vbt.wrapper.wrap(df4.values, columns=df4.columns)) # returns df\n",
    "print(df2.vbt.wrapper.wrap(df4.values, index=df4.index, columns=df4.columns)) # returns df"
   ],
   "outputs": []
  },
  {
   "cell_type": "code",
   "execution_count": 88,
   "metadata": {},
   "source": [
    "print(df4.vbt.tile(2, keys=['a', 'b']))\n",
    "print(df4.vbt.repeat(2, keys=['a', 'b']))"
   ],
   "outputs": []
  },
  {
   "cell_type": "code",
   "execution_count": 89,
   "metadata": {},
   "source": [
    "df10 = pd.DataFrame([[1, 2], [4, 5], [7, 8]], columns=multi_c1)\n",
    "df20 = pd.DataFrame([[1, 2, 3, 4], [4, 5, 6, 7], [7, 8, 9, 10]], columns=multi_c2)\n",
    "\n",
    "print(df10)\n",
    "print(df20)\n",
    "print(df10.vbt.align_to(df20))"
   ],
   "outputs": []
  },
  {
   "cell_type": "code",
   "execution_count": 90,
   "metadata": {},
   "source": [
    "print(pd.DataFrame.vbt.broadcast(\n",
    "    sr2,\n",
    "    10\n",
    "))\n",
    "print(sr2.vbt.broadcast(\n",
    "    10\n",
    "))\n",
    "print(sr2.vbt.broadcast_to(\n",
    "    df2\n",
    "))"
   ],
   "outputs": []
  },
  {
   "cell_type": "code",
   "execution_count": 91,
   "metadata": {},
   "source": [
    "print(sr2.vbt.make_symmetric())\n",
    "print(df2.vbt.make_symmetric())\n",
    "print(df3.vbt.make_symmetric())\n",
    "print(df4.vbt.make_symmetric())"
   ],
   "outputs": []
  },
  {
   "cell_type": "code",
   "execution_count": 92,
   "metadata": {},
   "source": [
    "print(df5.iloc[:, 0].vbt.unstack_to_array())"
   ],
   "outputs": []
  },
  {
   "cell_type": "code",
   "execution_count": 93,
   "metadata": {},
   "source": [
    "print(df5.iloc[:, 0].vbt.unstack_to_df())"
   ],
   "outputs": []
  },
  {
   "cell_type": "code",
   "execution_count": 94,
   "metadata": {},
   "source": [
    "print(sr2.vbt.apply(apply_func=lambda x: x ** 2))\n",
    "print(sr2.vbt.apply(apply_func=lambda x: x ** 2, to_2d=True))\n",
    "print(df2.vbt.apply(apply_func=lambda x: x ** 2))"
   ],
   "outputs": []
  },
  {
   "cell_type": "code",
   "execution_count": 95,
   "metadata": {},
   "source": [
    "print(pd.DataFrame.vbt.concat(sr2, 10, df4, keys=['a', 'b', 'c']))\n",
    "print(sr2.vbt.concat(10, df4, keys=['a', 'b', 'c']))"
   ],
   "outputs": []
  },
  {
   "cell_type": "code",
   "execution_count": 96,
   "metadata": {},
   "source": [
    "print(sr2.vbt.apply_and_concat(3, sr2.values, 10, apply_func=lambda i, x, y, c, d=1: x + y[i] + c + d, d=100))\n",
    "print(sr2.vbt.apply_and_concat(3, sr2.values, 10, apply_func=njit(lambda i, x, y, c: x + y[i] + c + 100)))\n",
    "print(sr2.vbt.apply_and_concat(3, df4.values, 10, apply_func=lambda i, x, y, c, d=1: x + y[:, i] + c + d, d=100))\n",
    "print(sr2.vbt.apply_and_concat(3, df4.values, 10, apply_func=njit(lambda i, x, y, c: x + y[:, i] + c + 100)))\n",
    "print(df4.vbt.apply_and_concat(3, df4.values, 10, apply_func=lambda i, x, y, c, d=1: x + y[:, i] + c + d, d=100))\n",
    "print(df4.vbt.apply_and_concat(\n",
    "    3, \n",
    "    df4.values, \n",
    "    10, \n",
    "    apply_func=njit(lambda i, x, y, c: x + y[:, i] + c + 100), \n",
    "    keys=pd.Index(['a', 'b', 'c'], name='hello')))"
   ],
   "outputs": []
  },
  {
   "cell_type": "code",
   "execution_count": 97,
   "metadata": {},
   "source": [
    "print(sr2.vbt.combine(10., combine_func=lambda x, y: x + y))\n",
    "print(sr2.vbt.combine(10, 100, d=1000, combine_func=lambda x, y, c, d=1: x + y + c + d)) # test args and kwargs\n",
    "print(sr2.vbt.combine(np.array([10, 20, 30]), combine_func=lambda x, y: x + y))\n",
    "print(sr2.vbt.combine(np.array([[10, 20, 30]]), combine_func=lambda x, y: x + y))\n",
    "print(sr2.vbt.combine(sr1, combine_func=lambda x, y: x + y, broadcast_kwargs=dict(index_from='stack')))\n",
    "print(sr2.vbt.combine(sr2, combine_func=lambda x, y: x + y, broadcast_kwargs=dict(index_from='stack')))\n",
    "print(sr2.vbt.combine(df2, combine_func=lambda x, y: x + y, broadcast_kwargs=dict(index_from='stack')))\n",
    "print(sr2.vbt.combine(df3, combine_func=lambda x, y: x + y, broadcast_kwargs=dict(index_from='stack')))\n",
    "print(sr2.vbt.combine(df4, combine_func=lambda x, y: x + y, broadcast_kwargs=dict(index_from='stack')))\n",
    "print(sr2.vbt.combine(df5, combine_func=lambda x, y: x + y, broadcast_kwargs=dict(index_from='stack')))"
   ],
   "outputs": []
  },
  {
   "cell_type": "code",
   "execution_count": 98,
   "metadata": {},
   "source": [
    "print(sr2.vbt.combine(\n",
    "    [10, [10, 20, 30], pd.Series([10, 20, 30])],\n",
    "    10, b=100,\n",
    "    combine_func=lambda x, y, a, b=1: x + y + a + b, \n",
    "    broadcast_kwargs=dict(index_from='stack')))\n",
    "print(sr2.vbt.combine(\n",
    "    [10, [10, 20, 30], [[10, 20, 30]], pd.Series([10, 20, 30]), df1, df3],\n",
    "    10, b=100,\n",
    "    combine_func=lambda x, y, a, b=1: x + y + a + b, \n",
    "    broadcast_kwargs=dict(index_from='stack')))\n",
    "print(sr2.vbt.combine(\n",
    "    [10, [10, 20, 30], [[10, 20, 30]], pd.Series([10, 20, 30]), df1, df3],\n",
    "    10,\n",
    "    combine_func=njit(lambda x, y, a, b=1: x + y + a + 100), \n",
    "    broadcast_kwargs=dict(index_from='stack')))\n",
    "print(sr2.vbt.combine(\n",
    "    [10, [10, 20, 30], [[10, 20, 30]], pd.Series([10, 20, 30]), df1, df3],\n",
    "    10,\n",
    "    combine_func=njit(lambda x, y, a, b=1: x + y + a + 100), \n",
    "    broadcast_kwargs=dict(index_from='stack')))"
   ],
   "outputs": []
  },
  {
   "cell_type": "code",
   "execution_count": 99,
   "metadata": {},
   "source": [
    "# Test concat=True\n",
    "print(sr2.vbt.combine(\n",
    "    [10, [10, 20, 30], pd.Series([10, 20, 30])],\n",
    "    10, b=100,\n",
    "    combine_func=lambda x, y, a, b=1: x + y + a + b, \n",
    "    concat=True,\n",
    "    broadcast_kwargs=dict(index_from='stack')))\n",
    "print(sr2.vbt.combine(\n",
    "    [10, [10, 20, 30], [[10, 20, 30]], pd.Series([10, 20, 30]), df1, df3],\n",
    "    10, b=100,\n",
    "    combine_func=lambda x, y, a, b=1: x + y + a + b, \n",
    "    concat=True,\n",
    "    broadcast_kwargs=dict(index_from='stack')))\n",
    "print(sr2.vbt.combine(\n",
    "    [10, [10, 20, 30], [[10, 20, 30]], pd.Series([10, 20, 30]), df1, df3],\n",
    "    10,\n",
    "    combine_func=njit(lambda x, y, a, b=1: x + y + a + 100),\n",
    "    concat=True,\n",
    "    broadcast_kwargs=dict(index_from='stack')))\n",
    "print(sr2.vbt.combine(\n",
    "    [10, [10, 20, 30], [[10, 20, 30]], pd.Series([10, 20, 30]), df1, df3],\n",
    "    10,\n",
    "    combine_func=njit(lambda x, y, a, b=1: x + y + a + 100),\n",
    "    concat=True,\n",
    "    keys=['a', 'b', 'c', 'd', 'e', 'f'],\n",
    "    broadcast_kwargs=dict(index_from='stack')))"
   ],
   "outputs": []
  },
  {
   "cell_type": "code",
   "execution_count": 100,
   "metadata": {},
   "source": [
    "# Use magic methods with .vbt to do operations with custom broadcasting\n",
    "print(pd.Series([1, 2, 3]).vbt + [1, 2, 3])\n",
    "print(df3.vbt + df4.vbt)  # regular df3 + df4 will return nans"
   ],
   "outputs": []
  },
  {
   "cell_type": "code",
   "execution_count": null,
   "metadata": {},
   "source": [],
   "outputs": []
  }
 ],
 "metadata": {
  "kernelspec": {
   "display_name": "Python 3",
   "language": "python",
   "name": "python3"
  },
  "language_info": {
   "codemirror_mode": {
    "name": "ipython",
    "version": 3
   },
   "file_extension": ".py",
   "mimetype": "text/x-python",
   "name": "python",
   "nbconvert_exporter": "python",
   "pygments_lexer": "ipython3",
   "version": "3.7.3"
  },
  "widgets": {
   "application/vnd.jupyter.widget-state+json": {
    "state": {},
    "version_major": 2,
    "version_minor": 0
   }
  }
 },
 "nbformat": 4,
 "nbformat_minor": 4
}
