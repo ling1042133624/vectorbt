{
 "cells": [
  {
   "cell_type": "markdown",
   "metadata": {},
   "source": [
    "# indicators"
   ]
  },
  {
   "cell_type": "code",
   "execution_count": 1,
   "metadata": {},
   "source": [
    "import vectorbt as vbt"
   ],
   "outputs": []
  },
  {
   "cell_type": "code",
   "execution_count": 2,
   "metadata": {
    "Collapsed": "false"
   },
   "source": [
    "import numpy as np\n",
    "import pandas as pd\n",
    "from datetime import datetime, timedelta\n",
    "from numba import njit\n",
    "import itertools\n",
    "import talib\n",
    "import ta"
   ],
   "outputs": []
  },
  {
   "cell_type": "code",
   "execution_count": 3,
   "metadata": {},
   "source": [
    "# Disable caching for performance testing\n",
    "vbt.settings.caching['enabled'] = False"
   ],
   "outputs": []
  },
  {
   "cell_type": "code",
   "execution_count": 4,
   "metadata": {},
   "source": [
    "close = pd.DataFrame({\n",
    "    'a': [1., 2., 3., 4., 5.],\n",
    "    'b': [5., 4., 3., 2., 1.],\n",
    "    'c': [1., 2., 3., 2., 1.]\n",
    "}, index=pd.DatetimeIndex([\n",
    "    datetime(2018, 1, 1),\n",
    "    datetime(2018, 1, 2),\n",
    "    datetime(2018, 1, 3),\n",
    "    datetime(2018, 1, 4),\n",
    "    datetime(2018, 1, 5)\n",
    "]))\n",
    "np.random.seed(42)\n",
    "high = close * np.random.uniform(1, 1.1, size=close.shape)\n",
    "low = close * np.random.uniform(0.9, 1, size=close.shape)\n",
    "volume = close * 0 + np.random.randint(1, 10, size=close.shape).astype(float)"
   ],
   "outputs": []
  },
  {
   "cell_type": "code",
   "execution_count": 5,
   "metadata": {},
   "source": [
    "big_close = pd.DataFrame(np.random.randint(10, size=(1000, 1000)).astype(float))\n",
    "big_close.index = [datetime(2018, 1, 1) + timedelta(days=i) for i in range(1000)]\n",
    "big_high = big_close * np.random.uniform(1, 1.1, size=big_close.shape)\n",
    "big_low = big_close * np.random.uniform(0.9, 1, size=big_close.shape)\n",
    "big_volume = big_close * 0 + np.random.randint(10, 100, size=big_close.shape).astype(float)"
   ],
   "outputs": []
  },
  {
   "cell_type": "code",
   "execution_count": 6,
   "metadata": {},
   "source": [
    "close_ts = pd.Series([1, 2, 3, 4, 3, 2, 1], index=pd.DatetimeIndex([\n",
    "    datetime(2018, 1, 1),\n",
    "    datetime(2018, 1, 2),\n",
    "    datetime(2018, 1, 3),\n",
    "    datetime(2018, 1, 4),\n",
    "    datetime(2018, 1, 5),\n",
    "    datetime(2018, 1, 6),\n",
    "    datetime(2018, 1, 7)\n",
    "]))\n",
    "high_ts = close_ts * 1.1\n",
    "low_ts = close_ts * 0.9\n",
    "volume_ts = pd.Series([4, 3, 2, 1, 2, 3, 4], index=close_ts.index)"
   ],
   "outputs": []
  },
  {
   "cell_type": "markdown",
   "metadata": {},
   "source": [
    "## IndicatorFactory"
   ]
  },
  {
   "cell_type": "code",
   "execution_count": 7,
   "metadata": {},
   "source": [
    "def apply_func(i, ts, p, a, b=100):\n",
    "    return ts * p[i] + a + b\n",
    "\n",
    "@njit\n",
    "def apply_func_nb(i, ts, p, a, b):\n",
    "    return ts * p[i] + a + b # numba doesn't support **kwargs\n",
    "\n",
    "# Custom function can be anything that takes time series, params and other arguments, and returns outputs\n",
    "def custom_func(ts, p, *args, **kwargs):\n",
    "    return vbt.base.combine_fns.apply_and_concat_one(len(p), apply_func, ts, p, *args, **kwargs)\n",
    "\n",
    "@njit\n",
    "def custom_func_nb(ts, p, *args):\n",
    "    return vbt.base.combine_fns.apply_and_concat_one_nb(len(p), apply_func_nb, ts, p, *args)\n",
    "\n",
    "F = vbt.IndicatorFactory(input_names=['ts'], param_names=['p'], output_names=['out'])\n",
    "print(F.from_custom_func(custom_func, var_args=True)\n",
    "      .run(close, [0, 1], 10, b=100).out)\n",
    "print(F.from_custom_func(custom_func_nb, var_args=True)\n",
    "      .run(close, [0, 1], 10, 100).out)"
   ],
   "outputs": []
  },
  {
   "cell_type": "code",
   "execution_count": 8,
   "metadata": {},
   "source": [
    "# Apply function is performed on each parameter individually, and each output is then stacked for you\n",
    "# Apply functions are less customizable than custom functions, but are simpler to write\n",
    "def apply_func(ts, p, a, b=100):\n",
    "    return ts * p + a + b\n",
    "\n",
    "@njit\n",
    "def apply_func_nb(ts, p, a, b):\n",
    "    return ts * p + a + b  # numba doesn't support **kwargs\n",
    "     \n",
    "F = vbt.IndicatorFactory(input_names=['ts'], param_names=['p'], output_names=['out'])\n",
    "print(F.from_apply_func(apply_func, var_args=True)\n",
    "      .run(close, [0, 1], 10, b=100).out)\n",
    "print(F.from_apply_func(apply_func_nb, var_args=True)\n",
    "      .run(close, [0, 1], 10, 100).out)"
   ],
   "outputs": []
  },
  {
   "cell_type": "code",
   "execution_count": 9,
   "metadata": {},
   "source": [
    "# test *args\n",
    "F = vbt.IndicatorFactory(input_names=['ts'], param_names=['p'], output_names=['out'])\n",
    "print(F.from_apply_func(lambda ts, p, a: ts * p + a, var_args=True)\n",
    "      .run(close, [0, 1, 2], 3).out) \n",
    "print(F.from_apply_func(njit(lambda ts, p, a: ts * p + a), var_args=True)\n",
    "      .run(close, [0, 1, 2], 3).out)"
   ],
   "outputs": []
  },
  {
   "cell_type": "code",
   "execution_count": 10,
   "metadata": {},
   "source": [
    "# test **kwargs\n",
    "# Numba doesn't support kwargs out of the box\n",
    "F = vbt.IndicatorFactory(input_names=['ts'], param_names=['p'], output_names=['out'])\n",
    "print(F.from_apply_func(lambda ts, p, a=1: ts * p + a)\n",
    "      .run(close, [0, 1, 2], a=3).out) "
   ],
   "outputs": []
  },
  {
   "cell_type": "code",
   "execution_count": 11,
   "metadata": {},
   "source": [
    "# test no inputs\n",
    "F = vbt.IndicatorFactory(param_names=['p'], output_names=['out'])\n",
    "print(F.from_apply_func(lambda p: np.full((3, 3), p))\n",
    "      .run([0, 1]).out)\n",
    "print(F.from_apply_func(njit(lambda p: np.full((3, 3), p)))\n",
    "      .run([0, 1]).out)"
   ],
   "outputs": []
  },
  {
   "cell_type": "code",
   "execution_count": 12,
   "metadata": {},
   "source": [
    "# test no inputs with input_shape, input_index and input_columns\n",
    "F = vbt.IndicatorFactory(param_names=['p'], output_names=['out'])\n",
    "print(F.from_apply_func(lambda input_shape, p: np.full(input_shape, p), require_input_shape=True)\n",
    "      .run((5,), 0).out)\n",
    "print(F.from_apply_func(njit(lambda input_shape, p: np.full(input_shape, p)), require_input_shape=True)\n",
    "      .run((5,), 0).out)\n",
    "\n",
    "print(F.from_apply_func(lambda input_shape, p: np.full(input_shape, p), require_input_shape=True)\n",
    "      .run((5,), [0, 1]).out)\n",
    "print(F.from_apply_func(njit(lambda input_shape, p: np.full(input_shape, p)), require_input_shape=True)\n",
    "      .run((5,), [0, 1]).out)\n",
    "\n",
    "print(F.from_apply_func(lambda input_shape, p: np.full(input_shape, p), require_input_shape=True)\n",
    "      .run((5, 3), [0, 1], input_index=close.index, input_columns=close.columns).out)\n",
    "print(F.from_apply_func(njit(lambda input_shape, p: np.full(input_shape, p)), require_input_shape=True)\n",
    "      .run((5, 3), [0, 1], input_index=close.index, input_columns=close.columns).out)"
   ],
   "outputs": []
  },
  {
   "cell_type": "code",
   "execution_count": 13,
   "metadata": {},
   "source": [
    "# test multiple inputs\n",
    "F = vbt.IndicatorFactory(input_names=['ts1', 'ts2'], param_names=['p'], output_names=['out'])\n",
    "print(F.from_apply_func(lambda ts1, ts2, p: ts1 * ts2 * p)\n",
    "      .run(close, high, [0, 1]).out)\n",
    "print(F.from_apply_func(njit(lambda ts1, ts2, p: ts1 * ts2 * p))\n",
    "      .run(close, high, [0, 1]).out)"
   ],
   "outputs": []
  },
  {
   "cell_type": "code",
   "execution_count": 14,
   "metadata": {},
   "source": [
    "# test no params\n",
    "F = vbt.IndicatorFactory(input_names=['ts'], output_names=['out'])\n",
    "print(F.from_apply_func(lambda ts: ts)\n",
    "      .run(close).out)\n",
    "print(F.from_apply_func(njit(lambda ts: ts))\n",
    "      .run(close).out)"
   ],
   "outputs": []
  },
  {
   "cell_type": "code",
   "execution_count": 15,
   "metadata": {},
   "source": [
    "# test no inputs and no params\n",
    "F = vbt.IndicatorFactory(output_names=['out'])\n",
    "print(F.from_apply_func(lambda: np.full((3, 3), 1))\n",
    "      .run().out)\n",
    "print(F.from_apply_func(njit(lambda: np.full((3, 3), 1)))\n",
    "      .run().out)"
   ],
   "outputs": []
  },
  {
   "cell_type": "code",
   "execution_count": 16,
   "metadata": {},
   "source": [
    "# test multiple params\n",
    "F = vbt.IndicatorFactory(input_names=['ts'], param_names=['p1', 'p2'], output_names=['out'])\n",
    "print(F.from_apply_func(lambda ts, p1, p2: ts * (p1 + p2))\n",
    "      .run(close, np.asarray([0, 1]), np.asarray([2, 3])).out) \n",
    "print(F.from_apply_func(njit(lambda ts, p1, p2: ts * (p1 + p2)))\n",
    "      .run(close, np.asarray([0, 1]), np.asarray([2, 3])).out)"
   ],
   "outputs": []
  },
  {
   "cell_type": "code",
   "execution_count": 17,
   "metadata": {},
   "source": [
    "# test param_settings array_like\n",
    "F = vbt.IndicatorFactory(input_names=['ts'], param_names=['p1', 'p2'], output_names=['out'])\n",
    "print(F.from_apply_func(lambda ts, p1, p2: ts * (p1 + p2), \n",
    "                        param_settings={'p1': {'is_array_like': True}})\n",
    "      .run(close, np.asarray([0, 1, 2]), np.asarray([2, 3])).out) \n",
    "print(F.from_apply_func(njit(lambda ts, p1, p2: ts * (p1 + p2)), \n",
    "                        param_settings={'p1': {'is_array_like': True}})\n",
    "      .run(close, np.asarray([0, 1, 2]), np.asarray([2, 3])).out)"
   ],
   "outputs": []
  },
  {
   "cell_type": "code",
   "execution_count": 18,
   "metadata": {},
   "source": [
    "# test param_settings bc_to_input\n",
    "F = vbt.IndicatorFactory(input_names=['ts'], param_names=['p1', 'p2'], output_names=['out'])\n",
    "print(F.from_apply_func(lambda ts, p1, p2: ts * (p1 + p2), \n",
    "                        param_settings={'p1': {'is_array_like': True, 'bc_to_input': True}})\n",
    "      .run(close, np.asarray([0, 1, 2]), np.asarray([2, 3])).out) \n",
    "print(F.from_apply_func(njit(lambda ts, p1, p2: ts * (p1 + p2)), \n",
    "                        param_settings={'p1': {'is_array_like': True, 'bc_to_input': True}})\n",
    "      .run(close, np.asarray([0, 1, 2]), np.asarray([2, 3])).out)"
   ],
   "outputs": []
  },
  {
   "cell_type": "code",
   "execution_count": 19,
   "metadata": {},
   "source": [
    "# test param product\n",
    "F = vbt.IndicatorFactory(input_names=['ts'], param_names=['p1', 'p2'], output_names=['out'])\n",
    "print(F.from_apply_func(lambda ts, p1, p2: ts * (p1 + p2))\n",
    "      .run(close, [0, 1], [2, 3], param_product=True).out) \n",
    "print(F.from_apply_func(njit(lambda ts, p1, p2: ts * (p1 + p2)))\n",
    "      .run(close, [0, 1], [2, 3], param_product=True).out)"
   ],
   "outputs": []
  },
  {
   "cell_type": "code",
   "execution_count": 20,
   "metadata": {},
   "source": [
    "# test default params\n",
    "F = vbt.IndicatorFactory(input_names=['ts'], param_names=['p1', 'p2'], output_names=['out'])\n",
    "print(F.from_apply_func(lambda ts, p1, p2: ts * (p1 + p2), p2=2)\n",
    "      .run(close, [0, 1]).out)\n",
    "print(F.from_apply_func(njit(lambda ts, p1, p2: ts * (p1 + p2)), p2=2)\n",
    "      .run(close, [0, 1]).out)"
   ],
   "outputs": []
  },
  {
   "cell_type": "code",
   "execution_count": 21,
   "metadata": {},
   "source": [
    "# test hide_params\n",
    "F = vbt.IndicatorFactory(input_names=['ts'], param_names=['p1', 'p2'], output_names=['out'])\n",
    "print(F.from_apply_func(lambda ts, p1, p2: ts * (p1 + p2), hide_params=['p2'])\n",
    "      .run(close, [0, 1], 2).out)\n",
    "print(F.from_apply_func(njit(lambda ts, p1, p2: ts * (p1 + p2)), hide_params=['p2'])\n",
    "      .run(close, [0, 1], 2).out)"
   ],
   "outputs": []
  },
  {
   "cell_type": "code",
   "execution_count": 22,
   "metadata": {},
   "source": [
    "# test hide_default\n",
    "F = vbt.IndicatorFactory(input_names=['ts'], param_names=['p1', 'p2'], output_names=['out'])\n",
    "print(F.from_apply_func(lambda ts, p1, p2: ts * (p1 + p2), p2=2)\n",
    "      .run(close, [0, 1], hide_default=False).out)\n",
    "print(F.from_apply_func(njit(lambda ts, p1, p2: ts * (p1 + p2)), p2=2)\n",
    "      .run(close, [0, 1], hide_default=False).out)\n",
    "print(F.from_apply_func(lambda ts, p1, p2: ts * (p1 + p2), p2=2)\n",
    "      .run(close, [0, 1], hide_default=True).out)\n",
    "print(F.from_apply_func(njit(lambda ts, p1, p2: ts * (p1 + p2)), p2=2)\n",
    "      .run(close, [0, 1], hide_default=True).out)"
   ],
   "outputs": []
  },
  {
   "cell_type": "code",
   "execution_count": 23,
   "metadata": {},
   "source": [
    "# test multiple outputs\n",
    "F = vbt.IndicatorFactory(input_names=['ts'], param_names=['p'], output_names=['o1', 'o2'])\n",
    "print(F.from_apply_func(lambda ts, p: (ts * p, ts * p ** 2))\n",
    "      .run(close, [0, 1]).o1)\n",
    "print(F.from_apply_func(lambda ts, p: (ts * p, ts * p ** 2))\n",
    "      .run(close, [0, 1]).o2)\n",
    "print(F.from_apply_func(njit(lambda ts, p: (ts * p, ts * p ** 2)))\n",
    "      .run(close, [0, 1]).o1)\n",
    "print(F.from_apply_func(njit(lambda ts, p: (ts * p, ts * p ** 2)))\n",
    "      .run(close, [0, 1]).o2)"
   ],
   "outputs": []
  },
  {
   "cell_type": "code",
   "execution_count": 24,
   "metadata": {},
   "source": [
    "# test in-place outputs\n",
    "def apply_func(ts, ts_out, p):\n",
    "    ts_out[:, 0] = p\n",
    "    return ts * p\n",
    "\n",
    "F = vbt.IndicatorFactory(input_names=['ts'], param_names=['p'], output_names=['out'], in_output_names=['ts_out'])\n",
    "print(F.from_apply_func(apply_func)\n",
    "      .run(close, [0, 1]).ts_out)\n",
    "print(F.from_apply_func(njit(apply_func))\n",
    "      .run(close, [0, 1]).ts_out)\n",
    "\n",
    "print(F.from_apply_func(apply_func, in_output_settings={'ts_out': {'dtype': np.int_}})\n",
    "      .run(close, [0, 1]).ts_out)\n",
    "print(F.from_apply_func(njit(apply_func), in_output_settings={'ts_out': {'dtype': np.int_}})\n",
    "      .run(close, [0, 1]).ts_out)\n",
    "\n",
    "print(F.from_apply_func(apply_func, ts_out=-1)\n",
    "      .run(close, [0, 1]).ts_out)\n",
    "print(F.from_apply_func(njit(apply_func), ts_out=-1)\n",
    "      .run(close, [0, 1]).ts_out)"
   ],
   "outputs": []
  },
  {
   "cell_type": "code",
   "execution_count": 25,
   "metadata": {},
   "source": [
    "# test kwargs_to_args\n",
    "F = vbt.IndicatorFactory(input_names=['ts'], param_names=['p'], output_names=['out'])\n",
    "print(F.from_apply_func(lambda ts, p, a, kw: ts * p + a + kw, kwargs_to_args=['kw'], var_args=True)\n",
    "      .run(close, [0, 1, 2], 3, kw=10).out) \n",
    "print(F.from_apply_func(njit(lambda ts, p, a, kw: ts * p + a + kw), kwargs_to_args=['kw'], var_args=True)\n",
    "      .run(close, [0, 1, 2], 3, kw=10).out)"
   ],
   "outputs": []
  },
  {
   "cell_type": "code",
   "execution_count": 26,
   "metadata": {},
   "source": [
    "# test caching func\n",
    "F = vbt.IndicatorFactory(input_names=['ts'], param_names=['p'], output_names=['out'])\n",
    "print(F.from_apply_func(lambda ts, param, c: ts * param + c, cache_func=lambda ts, params: 100)\n",
    "      .run(close, [0, 1]).out)\n",
    "print(F.from_apply_func(njit(lambda ts, param, c: ts * param + c), cache_func=njit(lambda ts, params: 100))\n",
    "      .run(close, [0, 1]).out)"
   ],
   "outputs": []
  },
  {
   "cell_type": "code",
   "execution_count": 27,
   "metadata": {},
   "source": [
    "# test run_combs\n",
    "F = vbt.IndicatorFactory(input_names=['ts'], param_names=['p1', 'p2'], output_names=['out'])\n",
    "print(F.from_apply_func(lambda ts, p1, p2: ts * (p1 + p2))\n",
    "      .run_combs(close, [0, 1, 2], [3, 4, 5], short_names=['i1', 'i2'])[0].out)\n",
    "print(F.from_apply_func(lambda ts, p1, p2: ts * (p1 + p2))\n",
    "      .run_combs(close, [0, 1, 2], [3, 4, 5], short_names=['i1', 'i2'])[1].out)\n",
    "print(F.from_apply_func(njit(lambda ts, p1, p2: ts * (p1 + p2)))\n",
    "      .run_combs(close, [0, 1, 2], [3, 4, 5], short_names=['i1', 'i2'])[0].out)\n",
    "print(F.from_apply_func(njit(lambda ts, p1, p2: ts * (p1 + p2)))\n",
    "      .run_combs(close, [0, 1, 2], [3, 4, 5], short_names=['i1', 'i2'])[1].out)"
   ],
   "outputs": []
  },
  {
   "cell_type": "code",
   "execution_count": 28,
   "metadata": {},
   "source": [
    "from collections import namedtuple\n",
    "\n",
    "TestEnum = namedtuple('TestEnum', ['Hello', 'World'])(0, 1)\n",
    "# test attr_settings\n",
    "F = vbt.IndicatorFactory(\n",
    "    input_names=['ts'], output_names=['o1', 'o2'], in_output_names=['ts_out'],\n",
    "    attr_settings={\n",
    "        'ts': {'dtype': None}, \n",
    "        'o1': {'dtype': np.float_}, \n",
    "        'o2': {'dtype': np.bool_}, \n",
    "        'ts_out': {'dtype': TestEnum}\n",
    "    }\n",
    ")\n",
    "dir(F.from_apply_func(lambda ts, ts_out: (ts + ts_out, ts + ts_out)).run(close))"
   ],
   "outputs": []
  },
  {
   "cell_type": "code",
   "execution_count": 29,
   "metadata": {},
   "source": [
    "CustomInd = vbt.IndicatorFactory(\n",
    "    input_names=['ts1', 'ts2'],\n",
    "    param_names=['p1', 'p2'],\n",
    "    output_names=['o1', 'o2']\n",
    ").from_apply_func(lambda ts1, ts2, p1, p2: (ts1 * p1, ts2 * p2))"
   ],
   "outputs": []
  },
  {
   "cell_type": "code",
   "execution_count": 30,
   "metadata": {},
   "source": [
    "dir(CustomInd) # you can list here all of the available tools"
   ],
   "outputs": []
  },
  {
   "cell_type": "code",
   "execution_count": 31,
   "metadata": {},
   "source": [
    "custom_ind = CustomInd.run(close, high, [1, 2], [3, 4])\n",
    "big_custom_ind = CustomInd.run(big_close, big_high, [1, 2], [3, 4])"
   ],
   "outputs": []
  },
  {
   "cell_type": "code",
   "execution_count": 32,
   "metadata": {},
   "source": [
    "print(custom_ind.wrapper.index) # subclasses ArrayWrapper\n",
    "print(custom_ind.wrapper.columns)\n",
    "print(custom_ind.wrapper.ndim)\n",
    "print(custom_ind.wrapper.shape)\n",
    "print(custom_ind.wrapper.freq)"
   ],
   "outputs": []
  },
  {
   "cell_type": "code",
   "execution_count": 33,
   "metadata": {},
   "source": [
    "# not changed during indexing\n",
    "print(custom_ind.short_name)\n",
    "print(custom_ind.level_names)\n",
    "print(custom_ind.input_names)\n",
    "print(custom_ind.param_names)\n",
    "print(custom_ind.output_names)\n",
    "print(custom_ind.output_flags)\n",
    "print(custom_ind.p1_list)\n",
    "print(custom_ind.p2_list)"
   ],
   "outputs": []
  },
  {
   "cell_type": "markdown",
   "metadata": {},
   "source": [
    "### Pandas indexing"
   ]
  },
  {
   "cell_type": "code",
   "execution_count": 34,
   "metadata": {},
   "source": [
    "print(custom_ind._ts1)\n",
    "print(custom_ind.ts1)\n",
    "\n",
    "print(custom_ind.ts1.iloc[:, 0])\n",
    "print(custom_ind.iloc[:, 0].ts1)\n",
    "\n",
    "print(custom_ind.ts1.iloc[:, [0]])\n",
    "print(custom_ind.iloc[:, [0]].ts1)\n",
    "\n",
    "print(custom_ind.ts1.iloc[:2, :])\n",
    "print(custom_ind.iloc[:2, :].ts1)"
   ],
   "outputs": []
  },
  {
   "cell_type": "code",
   "execution_count": 35,
   "metadata": {},
   "source": [
    "print(custom_ind.o1.iloc[:, 0])\n",
    "%timeit big_custom_ind.o1.iloc[:, 0] # benchmark, 1 column\n",
    "\n",
    "print(custom_ind.iloc[:, 0].o1) # performed on the object itself\n",
    "%timeit big_custom_ind.iloc[:, 0] # slower since it forwards the operation to each dataframe"
   ],
   "outputs": []
  },
  {
   "cell_type": "code",
   "execution_count": 36,
   "metadata": {},
   "source": [
    "print(custom_ind.o1.iloc[:, np.arange(3)])\n",
    "%timeit big_custom_ind.o1.iloc[:, np.arange(1000)] # 1000 columns\n",
    "\n",
    "print(custom_ind.iloc[:, np.arange(3)].o1)\n",
    "%timeit big_custom_ind.iloc[:, np.arange(1000)]"
   ],
   "outputs": []
  },
  {
   "cell_type": "code",
   "execution_count": 37,
   "metadata": {},
   "source": [
    "print(custom_ind.o1.loc[:, (1, 3, 'a')])\n",
    "%timeit big_custom_ind.o1.loc[:, (1, 3, 0)] # 1 column\n",
    "\n",
    "print(custom_ind.loc[:, (1, 3, 'a')].o1)\n",
    "%timeit big_custom_ind.loc[:, (1, 3, 0)]"
   ],
   "outputs": []
  },
  {
   "cell_type": "code",
   "execution_count": 38,
   "metadata": {},
   "source": [
    "print(custom_ind.o1.loc[:, (1, 3)])\n",
    "%timeit big_custom_ind.o1.loc[:, 1] # 1000 columns\n",
    "\n",
    "print(custom_ind.loc[:, (1, 3)].o1)\n",
    "%timeit big_custom_ind.loc[:, 1]"
   ],
   "outputs": []
  },
  {
   "cell_type": "code",
   "execution_count": 39,
   "metadata": {},
   "source": [
    "print(custom_ind.o1.xs(1, axis=1, level=0))\n",
    "%timeit big_custom_ind.o1.xs(1, axis=1, level=0) # 1000 columns\n",
    "\n",
    "print(custom_ind.xs(1, axis=1, level=0).o1)\n",
    "%timeit big_custom_ind.xs(1, axis=1, level=0)"
   ],
   "outputs": []
  },
  {
   "cell_type": "markdown",
   "metadata": {},
   "source": [
    "### Parameter indexing"
   ]
  },
  {
   "cell_type": "code",
   "execution_count": 40,
   "metadata": {},
   "source": [
    "# Indexing by parameter\n",
    "print(custom_ind._p1_mapper)\n",
    "print(custom_ind.p1_loc[2].o1)\n",
    "print(custom_ind.p1_loc[1:2].o1)\n",
    "print(custom_ind.p1_loc[[1, 1, 1]].o1)"
   ],
   "outputs": []
  },
  {
   "cell_type": "code",
   "execution_count": 41,
   "metadata": {},
   "source": [
    "%timeit big_custom_ind.p1_loc[1] # 1000 columns\n",
    "%timeit big_custom_ind.p1_loc[np.full(10, 1)] # 10000 columns"
   ],
   "outputs": []
  },
  {
   "cell_type": "code",
   "execution_count": 42,
   "metadata": {},
   "source": [
    "print(custom_ind._tuple_mapper)\n",
    "print(custom_ind.tuple_loc[(1, 3)].o1)\n",
    "print(custom_ind.tuple_loc[(1, 3):(2, 4)].o1)"
   ],
   "outputs": []
  },
  {
   "cell_type": "code",
   "execution_count": 43,
   "metadata": {},
   "source": [
    "%timeit big_custom_ind.tuple_loc[(1, 3)]\n",
    "%timeit big_custom_ind.tuple_loc[[(1, 3)] * 10]"
   ],
   "outputs": []
  },
  {
   "cell_type": "markdown",
   "metadata": {},
   "source": [
    "### Comparison methods"
   ]
  },
  {
   "cell_type": "code",
   "execution_count": 44,
   "metadata": {},
   "source": [
    "print(custom_ind.o1 > 2)\n",
    "%timeit big_custom_ind.o1.values > 2 # don't even try pandas\n",
    "\n",
    "print(custom_ind.o1_above(2))\n",
    "%timeit big_custom_ind.o1_above(2) # slower than numpy because of constructing dataframe"
   ],
   "outputs": []
  },
  {
   "cell_type": "code",
   "execution_count": 45,
   "metadata": {},
   "source": [
    "print(pd.concat((custom_ind.o1 > 2, custom_ind.o1 > 3), axis=1))\n",
    "%timeit np.hstack((big_custom_ind.o1.values > 2, big_custom_ind.o1.values > 3))\n",
    "\n",
    "print(custom_ind.o1_above([2, 3]))\n",
    "%timeit big_custom_ind.o1_above([2, 3])"
   ],
   "outputs": []
  },
  {
   "cell_type": "markdown",
   "metadata": {},
   "source": [
    "## TA-Lib"
   ]
  },
  {
   "cell_type": "code",
   "execution_count": 46,
   "metadata": {},
   "source": [
    "ts = pd.DataFrame({\n",
    "    'a': [1, 2, 3, 4, np.nan],\n",
    "    'b': [np.nan, 4, 3, 2, 1],\n",
    "    'c': [1, 2, np.nan, 2, 1]\n",
    "}, index=pd.DatetimeIndex([\n",
    "    datetime(2018, 1, 1),\n",
    "    datetime(2018, 1, 2),\n",
    "    datetime(2018, 1, 3),\n",
    "    datetime(2018, 1, 4),\n",
    "    datetime(2018, 1, 5)\n",
    "]))"
   ],
   "outputs": []
  },
  {
   "cell_type": "code",
   "execution_count": 47,
   "metadata": {},
   "source": [
    "SMA = vbt.talib('SMA')\n",
    "\n",
    "print(SMA.run(close['a'], 2).real)\n",
    "print(SMA.run(close, 2).real)\n",
    "print(SMA.run(close, [2, 3]).real)"
   ],
   "outputs": []
  },
  {
   "cell_type": "code",
   "execution_count": 49,
   "metadata": {},
   "source": [
    "%timeit SMA.run(big_close)\n",
    "%timeit SMA.run(big_close, np.arange(2, 10))\n",
    "%timeit SMA.run(big_close, np.full(10, 2))\n",
    "%timeit SMA.run(big_close, np.full(10, 2), run_unique=True)"
   ],
   "outputs": []
  },
  {
   "cell_type": "code",
   "execution_count": 50,
   "metadata": {},
   "source": [
    "comb = itertools.combinations(np.arange(2, 20), 2)\n",
    "fast_windows, slow_windows = np.asarray(list(comb)).transpose()\n",
    "print(fast_windows)\n",
    "print(slow_windows)"
   ],
   "outputs": []
  },
  {
   "cell_type": "code",
   "execution_count": 51,
   "metadata": {},
   "source": [
    "%timeit SMA.run(big_close, fast_windows), SMA.run(big_close, slow_windows) # individual caching\n",
    "%timeit SMA.run_combs(big_close, np.arange(2, 20)) # mutual caching"
   ],
   "outputs": []
  },
  {
   "cell_type": "code",
   "execution_count": 52,
   "metadata": {},
   "source": [
    "%timeit vbt.MA.run(big_close, fast_windows), vbt.MA.run(big_close, slow_windows) # the same using Numba\n",
    "%timeit vbt.MA.run_combs(big_close, np.arange(2, 20))"
   ],
   "outputs": []
  },
  {
   "cell_type": "code",
   "execution_count": 53,
   "metadata": {},
   "source": [
    "sma1, sma2 = SMA.run_combs(close, [2, 3, 4])\n",
    "print(sma1.real_crossed_above(sma2))\n",
    "print(sma1.real_crossed_below(sma2))"
   ],
   "outputs": []
  },
  {
   "cell_type": "code",
   "execution_count": 54,
   "metadata": {},
   "source": [
    "dir(vbt.talib('BBANDS'))"
   ],
   "outputs": []
  },
  {
   "cell_type": "markdown",
   "metadata": {},
   "source": [
    "## MA"
   ]
  },
  {
   "cell_type": "code",
   "execution_count": 55,
   "metadata": {},
   "source": [
    "print(close.rolling(2).mean())\n",
    "print(close.ewm(span=3, min_periods=3).mean())\n",
    "print(vbt.talib('SMA').run(close, timeperiod=2).real)\n",
    "print(vbt.MA.run(close, [2, 3], ewm=[False, True]).ma)  # adjust=False"
   ],
   "outputs": []
  },
  {
   "cell_type": "code",
   "execution_count": 56,
   "metadata": {},
   "source": [
    "# One window\n",
    "%timeit big_close.rolling(2).mean() # pandas\n",
    "%timeit vbt.talib('SMA').run(big_close, timeperiod=2)\n",
    "%timeit vbt.MA.run(big_close, 2, return_cache=True) # cache only\n",
    "%timeit vbt.MA.run(big_close, 2) # with pre+postprocessing and still beats pandas\n",
    "\n",
    "print(vbt.MA.run(big_close, 2).ma.shape)"
   ],
   "outputs": []
  },
  {
   "cell_type": "code",
   "execution_count": 57,
   "metadata": {},
   "source": [
    "# Multiple windows\n",
    "%timeit pd.concat([big_close.rolling(i).mean() for i in np.arange(2, 10)])\n",
    "%timeit vbt.talib('SMA').run(big_close, np.arange(2, 10))\n",
    "%timeit vbt.MA.run(big_close, np.arange(2, 10))\n",
    "%timeit vbt.MA.run(big_close, np.arange(2, 10), run_unique=True)\n",
    "%timeit vbt.MA.run(big_close, np.arange(2, 10), return_cache=True) # cache only\n",
    "cache = vbt.MA.run(big_close, np.arange(2, 10), return_cache=True)\n",
    "%timeit vbt.MA.run(big_close, np.arange(2, 10), use_cache=cache) # using cache\n",
    "\n",
    "print(vbt.MA.run(big_close, np.arange(2, 10)).ma.shape)"
   ],
   "outputs": []
  },
  {
   "cell_type": "code",
   "execution_count": 58,
   "metadata": {},
   "source": [
    "# One window repeated\n",
    "%timeit pd.concat([big_close.rolling(i).mean() for i in np.full(10, 2)])\n",
    "%timeit vbt.talib('SMA').run(big_close, np.full(10, 2))\n",
    "%timeit vbt.MA.run(big_close, np.full(10, 2))\n",
    "%timeit vbt.MA.run(big_close, np.full(10, 2), run_unique=True)  # slower for large inputs\n",
    "%timeit vbt.MA.run(big_close, np.full(10, 2), return_cache=True)\n",
    "\n",
    "print(vbt.MA.run(big_close, np.full(10, 2)).ma.shape)"
   ],
   "outputs": []
  },
  {
   "cell_type": "code",
   "execution_count": 59,
   "metadata": {},
   "source": [
    "%timeit pd.concat([big_close.iloc[:, :10].rolling(i).mean() for i in np.full(100, 2)])\n",
    "%timeit vbt.talib('SMA').run(big_close.iloc[:, :10], np.full(100, 2))\n",
    "%timeit vbt.MA.run(big_close.iloc[:, :10], np.full(100, 2))\n",
    "%timeit vbt.MA.run(big_close.iloc[:, :10], np.full(100, 2), run_unique=True)  # faster for smaller inputs\n",
    "%timeit vbt.MA.run(big_close.iloc[:, :10], np.full(100, 2), return_cache=True)\n",
    "\n",
    "print(vbt.MA.run(big_close.iloc[:, :10], np.full(100, 2)).ma.shape)"
   ],
   "outputs": []
  },
  {
   "cell_type": "code",
   "execution_count": 60,
   "metadata": {},
   "source": [
    "ma = vbt.MA.run(close, [2, 3], ewm=[False, True])\n",
    "\n",
    "print(ma.ma)"
   ],
   "outputs": []
  },
  {
   "cell_type": "code",
   "execution_count": 61,
   "metadata": {},
   "source": [
    "ma[(2, False, 'a')].plot().show_svg()"
   ],
   "outputs": []
  },
  {
   "cell_type": "markdown",
   "metadata": {},
   "source": [
    "## MSTD"
   ]
  },
  {
   "cell_type": "code",
   "execution_count": 62,
   "metadata": {},
   "source": [
    "print(close.rolling(2).std(ddof=0))\n",
    "print(close.ewm(span=3, min_periods=3).std(ddof=0))\n",
    "print(vbt.talib('STDDEV').run(close, timeperiod=2).real)  \n",
    "print(vbt.MSTD.run(close, [2, 3], ewm=[False, True]).mstd)  # adjust=False, ddof=0"
   ],
   "outputs": []
  },
  {
   "cell_type": "code",
   "execution_count": 63,
   "metadata": {},
   "source": [
    "# One window\n",
    "%timeit big_close.rolling(2).std()\n",
    "%timeit vbt.talib('STDDEV').run(big_close, timeperiod=2)\n",
    "%timeit vbt.MSTD.run(big_close, 2)\n",
    "\n",
    "print(vbt.MSTD.run(big_close, 2).mstd.shape)"
   ],
   "outputs": []
  },
  {
   "cell_type": "code",
   "execution_count": 64,
   "metadata": {},
   "source": [
    "# Multiple windows\n",
    "%timeit pd.concat([big_close.rolling(i).std() for i in np.arange(2, 10)])\n",
    "%timeit vbt.talib('STDDEV').run(big_close, timeperiod=np.arange(2, 10))\n",
    "%timeit vbt.MSTD.run(big_close, np.arange(2, 10))\n",
    "\n",
    "print(vbt.MSTD.run(big_close, np.arange(2, 10)).mstd.shape)"
   ],
   "outputs": []
  },
  {
   "cell_type": "code",
   "execution_count": 65,
   "metadata": {},
   "source": [
    "# One window repeated\n",
    "%timeit vbt.talib('STDDEV').run(big_close, timeperiod=np.full(10, 2))\n",
    "%timeit vbt.MSTD.run(big_close, window=np.full(10, 2))\n",
    "\n",
    "print(vbt.MSTD.run(big_close, window=np.full(10, 2)).close.shape)"
   ],
   "outputs": []
  },
  {
   "cell_type": "code",
   "execution_count": 66,
   "metadata": {},
   "source": [
    "mstd = vbt.MSTD.run(close, [2, 3], [False, True])\n",
    "\n",
    "print(mstd.mstd)"
   ],
   "outputs": []
  },
  {
   "cell_type": "code",
   "execution_count": 67,
   "metadata": {},
   "source": [
    "mstd[(2, False, 'a')].plot().show_svg()"
   ],
   "outputs": []
  },
  {
   "cell_type": "markdown",
   "metadata": {},
   "source": [
    "## BBANDS"
   ]
  },
  {
   "cell_type": "code",
   "execution_count": 68,
   "metadata": {},
   "source": [
    "print(vbt.ta('BollingerBands').run(close['a'], window=2, window_dev=2).bollinger_hband)\n",
    "print(vbt.ta('BollingerBands').run(close['a'], window=2, window_dev=2).bollinger_mavg)\n",
    "print(vbt.ta('BollingerBands').run(close['a'], window=2, window_dev=2).bollinger_lband)\n",
    "\n",
    "print(vbt.talib('BBANDS').run(close, timeperiod=2, nbdevup=2, nbdevdn=2).upperband)\n",
    "print(vbt.talib('BBANDS').run(close, timeperiod=2, nbdevup=2, nbdevdn=2).middleband)\n",
    "print(vbt.talib('BBANDS').run(close, timeperiod=2, nbdevup=2, nbdevdn=2).lowerband)\n",
    "\n",
    "print(vbt.BBANDS.run(close, window=2, ewm=False, alpha=2).upper)\n",
    "print(vbt.BBANDS.run(close, window=2, ewm=False, alpha=2).middle)\n",
    "print(vbt.BBANDS.run(close, window=2, ewm=False, alpha=2).lower)"
   ],
   "outputs": []
  },
  {
   "cell_type": "code",
   "execution_count": 69,
   "metadata": {},
   "source": [
    "# One window\n",
    "%timeit vbt.talib('BBANDS').run(big_close, timeperiod=2)\n",
    "%timeit vbt.BBANDS.run(big_close, window=2)\n",
    "\n",
    "print(vbt.BBANDS.run(big_close).close.shape)"
   ],
   "outputs": []
  },
  {
   "cell_type": "code",
   "execution_count": 70,
   "metadata": {},
   "source": [
    "# Multiple windows\n",
    "%timeit vbt.talib('BBANDS').run(big_close, timeperiod=np.arange(2, 10))\n",
    "%timeit vbt.BBANDS.run(big_close, window=np.arange(2, 10))\n",
    "\n",
    "print(vbt.BBANDS.run(big_close, window=np.arange(2, 10)).close.shape)"
   ],
   "outputs": []
  },
  {
   "cell_type": "code",
   "execution_count": 71,
   "metadata": {},
   "source": [
    "# One window repeated\n",
    "%timeit vbt.talib('BBANDS').run(big_close, timeperiod=np.full(10, 2))\n",
    "%timeit vbt.BBANDS.run(big_close, window=np.full(10, 2))\n",
    "\n",
    "print(vbt.BBANDS.run(big_close, window=np.full(10, 2)).close.shape)"
   ],
   "outputs": []
  },
  {
   "cell_type": "code",
   "execution_count": 72,
   "metadata": {},
   "source": [
    "bb = vbt.BBANDS.run(close, window=2, alpha=[1., 2.], ewm=False)\n",
    "\n",
    "print(bb.middle)\n",
    "print()\n",
    "print(bb.upper)\n",
    "print()\n",
    "print(bb.lower)\n",
    "print()\n",
    "print(bb.percent_b)\n",
    "print()\n",
    "print(bb.bandwidth)"
   ],
   "outputs": []
  },
  {
   "cell_type": "code",
   "execution_count": 73,
   "metadata": {},
   "source": [
    "print(bb.close_below(bb.upper) & bb.close_above(bb.lower)) # price between bands"
   ],
   "outputs": []
  },
  {
   "cell_type": "code",
   "execution_count": 74,
   "metadata": {},
   "source": [
    "bb[(2, False, 1., 'a')].plot().show_svg()"
   ],
   "outputs": []
  },
  {
   "cell_type": "markdown",
   "metadata": {},
   "source": [
    "## RSI"
   ]
  },
  {
   "cell_type": "code",
   "execution_count": 75,
   "metadata": {},
   "source": [
    "print(vbt.ta('RSIIndicator').run(close=close['a'], window=2).rsi)  # alpha=1/n\n",
    "print(vbt.ta('RSIIndicator').run(close=close['b'], window=2).rsi)\n",
    "print(vbt.ta('RSIIndicator').run(close=close['c'], window=2).rsi)\n",
    "print(vbt.talib('RSI').run(close, timeperiod=2).real)\n",
    "print(vbt.RSI.run(close, window=[2, 2], ewm=[True, False]).rsi)  # span=n"
   ],
   "outputs": []
  },
  {
   "cell_type": "code",
   "execution_count": 76,
   "metadata": {},
   "source": [
    "# One window\n",
    "%timeit vbt.talib('RSI').run(big_close, timeperiod=2)\n",
    "%timeit vbt.RSI.run(big_close, window=2)\n",
    "\n",
    "print(vbt.RSI.run(big_close, window=2).rsi.shape)"
   ],
   "outputs": []
  },
  {
   "cell_type": "code",
   "execution_count": 77,
   "metadata": {},
   "source": [
    "# Multiple windows\n",
    "%timeit vbt.talib('RSI').run(big_close, timeperiod=np.arange(2, 10))\n",
    "%timeit vbt.RSI.run(big_close, window=np.arange(2, 10))\n",
    "\n",
    "print(vbt.RSI.run(big_close, window=np.arange(2, 10)).rsi.shape)"
   ],
   "outputs": []
  },
  {
   "cell_type": "code",
   "execution_count": 78,
   "metadata": {},
   "source": [
    "# One window repeated\n",
    "%timeit vbt.talib('RSI').run(big_close, timeperiod=np.full(10, 2))\n",
    "%timeit vbt.RSI.run(big_close, window=np.full(10, 2))\n",
    "\n",
    "print(vbt.RSI.run(big_close, window=np.full(10, 2)).rsi.shape)"
   ],
   "outputs": []
  },
  {
   "cell_type": "code",
   "execution_count": 79,
   "metadata": {},
   "source": [
    "rsi = vbt.RSI.run(close, window=[2, 3], ewm=[False, True])\n",
    "\n",
    "print(rsi.rsi)"
   ],
   "outputs": []
  },
  {
   "cell_type": "code",
   "execution_count": 80,
   "metadata": {},
   "source": [
    "print(rsi.rsi_above(70))"
   ],
   "outputs": []
  },
  {
   "cell_type": "code",
   "execution_count": 81,
   "metadata": {},
   "source": [
    "rsi[(2, False, 'a')].plot().show_svg()"
   ],
   "outputs": []
  },
  {
   "cell_type": "markdown",
   "metadata": {},
   "source": [
    "## STOCH"
   ]
  },
  {
   "cell_type": "code",
   "execution_count": 82,
   "metadata": {},
   "source": [
    "print(vbt.ta('StochasticOscillator').run(high=high['a'], low=low['a'], close=close['a'], window=2, smooth_window=3).stoch)\n",
    "print(vbt.ta('StochasticOscillator').run(high=high['a'], low=low['a'], close=close['a'], window=2, smooth_window=3).stoch_signal)\n",
    "print(vbt.talib('STOCHF').run(high, low, close, fastk_period=2, fastd_period=3).fastk)\n",
    "print(vbt.talib('STOCHF').run(high, low, close, fastk_period=2, fastd_period=3).fastd)\n",
    "print(vbt.STOCH.run(high, low, close, k_window=2, d_window=3).percent_k)\n",
    "print(vbt.STOCH.run(high, low, close, k_window=2, d_window=3).percent_d)"
   ],
   "outputs": []
  },
  {
   "cell_type": "code",
   "execution_count": 83,
   "metadata": {},
   "source": [
    "# One window\n",
    "%timeit vbt.talib('STOCHF').run(big_high, big_low, big_close, fastk_period=2)\n",
    "%timeit vbt.STOCH.run(big_high, big_low, big_close, k_window=2)\n",
    "\n",
    "print(vbt.STOCH.run(big_high, big_low, big_close, k_window=2).percent_d.shape)"
   ],
   "outputs": []
  },
  {
   "cell_type": "code",
   "execution_count": 84,
   "metadata": {},
   "source": [
    "# Multiple windows\n",
    "%timeit vbt.talib('STOCHF').run(big_high, big_low, big_close, fastk_period=np.arange(2, 10))\n",
    "%timeit vbt.STOCH.run(big_high, big_low, big_close, k_window=np.arange(2, 10))\n",
    "\n",
    "print(vbt.STOCH.run(big_high, big_low, big_close, k_window=np.arange(2, 10)).percent_d.shape)"
   ],
   "outputs": []
  },
  {
   "cell_type": "code",
   "execution_count": 85,
   "metadata": {},
   "source": [
    "# One window repeated\n",
    "%timeit vbt.talib('STOCHF').run(big_high, big_low, big_close, fastk_period=np.full(10, 2))\n",
    "%timeit vbt.STOCH.run(big_high, big_low, big_close, k_window=np.full(10, 2))\n",
    "\n",
    "print(vbt.STOCH.run(big_high, big_low, big_close, k_window=np.full(10, 2)).percent_d.shape)"
   ],
   "outputs": []
  },
  {
   "cell_type": "code",
   "execution_count": 86,
   "metadata": {},
   "source": [
    "stochastic = vbt.STOCH.run(high, low, close, k_window=[2, 4], d_window=2, d_ewm=[False, True])\n",
    "\n",
    "print(stochastic.percent_k)\n",
    "print(stochastic.percent_d)"
   ],
   "outputs": []
  },
  {
   "cell_type": "code",
   "execution_count": 87,
   "metadata": {},
   "source": [
    "stochastic[(2, 2, False, 'a')].plot().show_svg()"
   ],
   "outputs": []
  },
  {
   "cell_type": "markdown",
   "metadata": {},
   "source": [
    "## MACD"
   ]
  },
  {
   "cell_type": "code",
   "execution_count": 88,
   "metadata": {},
   "source": [
    "print(vbt.ta('MACD').run(close['a'], window_fast=2, window_slow=3, window_sign=2).macd)\n",
    "print(vbt.ta('MACD').run(close['a'], window_fast=2, window_slow=3, window_sign=2).macd_signal)\n",
    "print(vbt.ta('MACD').run(close['a'], window_fast=2, window_slow=3, window_sign=2).macd_diff)\n",
    "\n",
    "print(vbt.talib('MACD').run(close, fastperiod=2, slowperiod=3, signalperiod=2).macd)  # uses sma\n",
    "print(vbt.talib('MACD').run(close, fastperiod=2, slowperiod=3, signalperiod=2).macdsignal)\n",
    "print(vbt.talib('MACD').run(close, fastperiod=2, slowperiod=3, signalperiod=2).macdhist)\n",
    "\n",
    "print(vbt.MACD.run(close, fast_window=2, slow_window=3, signal_window=2, macd_ewm=True, signal_ewm=True).macd)\n",
    "print(vbt.MACD.run(close, fast_window=2, slow_window=3, signal_window=2, macd_ewm=True, signal_ewm=True).signal)\n",
    "print(vbt.MACD.run(close, fast_window=2, slow_window=3, signal_window=2, macd_ewm=True, signal_ewm=True).hist)"
   ],
   "outputs": []
  },
  {
   "cell_type": "code",
   "execution_count": 89,
   "metadata": {},
   "source": [
    "# One window\n",
    "%timeit vbt.talib('MACD').run(big_close, fastperiod=2)\n",
    "%timeit vbt.MACD.run(big_close, fast_window=2)\n",
    "\n",
    "print(vbt.MACD.run(big_close, fast_window=2).macd.shape)"
   ],
   "outputs": []
  },
  {
   "cell_type": "code",
   "execution_count": 90,
   "metadata": {},
   "source": [
    "# Multiple windows\n",
    "%timeit vbt.talib('MACD').run(big_close, fastperiod=np.arange(2, 10))\n",
    "%timeit vbt.MACD.run(big_close, fast_window=np.arange(2, 10))\n",
    "\n",
    "print(vbt.MACD.run(big_close, fast_window=np.arange(2, 10)).macd.shape)"
   ],
   "outputs": []
  },
  {
   "cell_type": "code",
   "execution_count": 91,
   "metadata": {},
   "source": [
    "# One window repeated\n",
    "%timeit vbt.talib('MACD').run(big_close, fastperiod=np.full(10, 2))\n",
    "%timeit vbt.MACD.run(big_close, fast_window=np.full(10, 2))\n",
    "\n",
    "print(vbt.MACD.run(big_close, fast_window=np.full(10, 2)).macd.shape)"
   ],
   "outputs": []
  },
  {
   "cell_type": "code",
   "execution_count": 92,
   "metadata": {},
   "source": [
    "macd = vbt.MACD.run(close, fast_window=2, slow_window=3, signal_window=[2, 3], macd_ewm=True, signal_ewm=True)\n",
    "\n",
    "print(macd.macd)\n",
    "print(macd.signal)\n",
    "print(macd.hist)"
   ],
   "outputs": []
  },
  {
   "cell_type": "code",
   "execution_count": 93,
   "metadata": {},
   "source": [
    "macd[(2, 3, 2, True, True, 'a')].plot().show_svg()"
   ],
   "outputs": []
  },
  {
   "cell_type": "markdown",
   "metadata": {},
   "source": [
    "## ATR"
   ]
  },
  {
   "cell_type": "code",
   "execution_count": 94,
   "metadata": {},
   "source": [
    "print(vbt.ta('AverageTrueRange').run(high['a'], low['a'], close['a'], window=2).average_true_range)\n",
    "print(vbt.ta('AverageTrueRange').run(high['b'], low['b'], close['b'], window=2).average_true_range)\n",
    "print(vbt.ta('AverageTrueRange').run(high['c'], low['c'], close['c'], window=2).average_true_range)\n",
    "print(vbt.talib('ATR').run(high, low, close, timeperiod=2).real)\n",
    "print(vbt.ATR.run(high, low, close, window=[2, 3], ewm=[False, True]).atr)"
   ],
   "outputs": []
  },
  {
   "cell_type": "code",
   "execution_count": 95,
   "metadata": {},
   "source": [
    "# One window\n",
    "%timeit vbt.talib('ATR').run(big_high, big_low, big_close, timeperiod=2)\n",
    "%timeit vbt.ATR.run(big_high, big_low, big_close, window=2)\n",
    "\n",
    "print(vbt.ATR.run(big_high, big_low, big_close, window=2).atr.shape)"
   ],
   "outputs": []
  },
  {
   "cell_type": "code",
   "execution_count": 96,
   "metadata": {},
   "source": [
    "# Multiple windows\n",
    "%timeit vbt.talib('ATR').run(big_high, big_low, big_close, timeperiod=np.arange(2, 10))\n",
    "%timeit vbt.ATR.run(big_high, big_low, big_close, window=np.arange(2, 10)) # rolling min/max very expensive\n",
    "\n",
    "print(vbt.ATR.run(big_high, big_low, big_close, window=np.arange(2, 10)).atr.shape)"
   ],
   "outputs": []
  },
  {
   "cell_type": "code",
   "execution_count": 97,
   "metadata": {},
   "source": [
    "# One window repeated\n",
    "%timeit vbt.talib('ATR').run(big_high, big_low, big_close, timeperiod=np.full(10, 2))\n",
    "%timeit vbt.ATR.run(big_high, big_low, big_close, window=np.full(10, 2))\n",
    "\n",
    "print(vbt.ATR.run(big_high, big_low, big_close, window=np.full(10, 2)).atr.shape)"
   ],
   "outputs": []
  },
  {
   "cell_type": "code",
   "execution_count": 98,
   "metadata": {},
   "source": [
    "atr = vbt.ATR.run(high, low, close, window=[2, 3], ewm=[False, True])\n",
    "\n",
    "print(atr.tr)\n",
    "print(atr.atr)"
   ],
   "outputs": []
  },
  {
   "cell_type": "code",
   "execution_count": 99,
   "metadata": {},
   "source": [
    "atr[(2, False, 'a')].plot().show_svg()"
   ],
   "outputs": []
  },
  {
   "cell_type": "markdown",
   "metadata": {},
   "source": [
    "## OBV"
   ]
  },
  {
   "cell_type": "code",
   "execution_count": 100,
   "metadata": {},
   "source": [
    "print(vbt.ta('OnBalanceVolumeIndicator').run(close['a'], volume['a']).on_balance_volume)\n",
    "print(vbt.ta('OnBalanceVolumeIndicator').run(close['b'], volume['b']).on_balance_volume)\n",
    "print(vbt.ta('OnBalanceVolumeIndicator').run(close['c'], volume['c']).on_balance_volume)\n",
    "print(vbt.talib('OBV').run(close, volume).real)\n",
    "print(vbt.OBV.run(close, volume).obv)"
   ],
   "outputs": []
  },
  {
   "cell_type": "code",
   "execution_count": 101,
   "metadata": {},
   "source": [
    "%timeit vbt.talib('OBV').run(big_close, big_volume)\n",
    "%timeit vbt.OBV.run(big_close, big_volume)\n",
    "\n",
    "print(vbt.OBV.run(big_close, big_volume).obv.shape)"
   ],
   "outputs": []
  },
  {
   "cell_type": "code",
   "execution_count": 102,
   "metadata": {},
   "source": [
    "obv = vbt.OBV.run(close, volume)\n",
    "\n",
    "print(obv.obv)"
   ],
   "outputs": []
  },
  {
   "cell_type": "code",
   "execution_count": 103,
   "metadata": {},
   "source": [
    "print(obv.obv_above([0, 5]))"
   ],
   "outputs": []
  },
  {
   "cell_type": "code",
   "execution_count": 104,
   "metadata": {},
   "source": [
    "obv['a'].plot().show_svg()"
   ],
   "outputs": []
  },
  {
   "cell_type": "code",
   "execution_count": null,
   "metadata": {},
   "source": [],
   "outputs": []
  }
 ],
 "metadata": {
  "kernelspec": {
   "display_name": "Python 3",
   "language": "python",
   "name": "python3"
  },
  "language_info": {
   "codemirror_mode": {
    "name": "ipython",
    "version": 3
   },
   "file_extension": ".py",
   "mimetype": "text/x-python",
   "name": "python",
   "nbconvert_exporter": "python",
   "pygments_lexer": "ipython3",
   "version": "3.7.3"
  },
  "widgets": {
   "application/vnd.jupyter.widget-state+json": {
    "state": {},
    "version_major": 2,
    "version_minor": 0
   }
  }
 },
 "nbformat": 4,
 "nbformat_minor": 4
}
