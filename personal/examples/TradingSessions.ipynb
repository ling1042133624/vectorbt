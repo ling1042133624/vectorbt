{
 "cells": [
  {
   "cell_type": "code",
   "execution_count": 1,
   "metadata": {},
   "source": [
    "import pandas as pd\n",
    "import numpy as np\n",
    "import vectorbt as vbt\n",
    "from datetime import timedelta"
   ],
   "outputs": []
  },
  {
   "cell_type": "code",
   "execution_count": 2,
   "metadata": {},
   "source": [
    "# Generate sample price\n",
    "price_idx = pd.date_range('2018-01-01 12:00:00', periods=48, freq='H')\n",
    "np.random.seed(42)\n",
    "price = pd.Series(np.random.uniform(size=price_idx.shape), index=price_idx)\n",
    "print(price)"
   ],
   "outputs": []
  },
  {
   "cell_type": "code",
   "execution_count": 3,
   "metadata": {},
   "source": [
    "# Sessions must be equal - fill missing dates\n",
    "# Fill on first date before 12:00 and on last date after 11:00\n",
    "first_date = price.index[0].date()\n",
    "last_date = price.index[-1].date()+timedelta(days=1)\n",
    "filled_idx = pd.date_range(first_date, last_date, freq='H')\n",
    "filled_price = price.reindex(filled_idx)\n",
    "print(filled_price)"
   ],
   "outputs": []
  },
  {
   "cell_type": "code",
   "execution_count": 4,
   "metadata": {},
   "source": [
    "# Remove dates that are outside of trading sessions\n",
    "session_price_idx = filled_price.between_time('9:00', '17:00', include_end=False).index\n",
    "session_price = filled_price.loc[session_price_idx]\n",
    "print(session_price)"
   ],
   "outputs": []
  },
  {
   "cell_type": "code",
   "execution_count": 5,
   "metadata": {},
   "source": [
    "# Select first and last ticks of each trading session and split price into ranges between those ticks\n",
    "start_idxs = session_price.index[session_price.index.hour == 9]\n",
    "end_idxs = session_price.index[session_price.index.hour == 16]\n",
    "price_per_session, _ = session_price.vbt(freq='1H').range_split(start_idxs=start_idxs, end_idxs=end_idxs)\n",
    "print(price_per_session)"
   ],
   "outputs": []
  },
  {
   "cell_type": "code",
   "execution_count": 6,
   "metadata": {},
   "source": [
    "# Run your strategy (here using random signals)\n",
    "entries, exits = pd.DataFrame.vbt.signals.generate_random_both(price_per_session.shape, n=2, seed=42)\n",
    "pf = vbt.Portfolio.from_signals(price_per_session, entries, exits, freq='1H')\n",
    "print(pf.total_return())"
   ],
   "outputs": []
  },
  {
   "cell_type": "code",
   "execution_count": null,
   "metadata": {},
   "source": [],
   "outputs": []
  }
 ],
 "metadata": {
  "kernelspec": {
   "display_name": "Python 3 (ipykernel)",
   "language": "python",
   "name": "python3"
  },
  "language_info": {
   "codemirror_mode": {
    "name": "ipython",
    "version": 3
   },
   "file_extension": ".py",
   "mimetype": "text/x-python",
   "name": "python",
   "nbconvert_exporter": "python",
   "pygments_lexer": "ipython3",
   "version": "3.7.3"
  },
  "widgets": {
   "application/vnd.jupyter.widget-state+json": {
    "state": {},
    "version_major": 2,
    "version_minor": 0
   }
  }
 },
 "nbformat": 4,
 "nbformat_minor": 4
}
