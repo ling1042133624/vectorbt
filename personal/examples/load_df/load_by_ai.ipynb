{
 "cells": [
  {
   "cell_type": "code",
   "id": "initial_id",
   "metadata": {
    "collapsed": true,
    "ExecuteTime": {
     "end_time": "2024-09-12T16:38:07.679374Z",
     "start_time": "2024-09-12T16:38:01.186070Z"
    }
   },
   "source": [
    "# gemini\n",
    "import pandas as pd\n",
    "import vectorbt as vbt\n",
    "import akshare as ak\n",
    "import backtrader as bt\n",
    "import pandas as pd\n",
    "\n",
    "medical_df = ak.fund_open_fund_info_em(fund=\"000369\", indicator=\"累计净值走势\")  # 广发全球医疗A\n",
    "\n",
    "medical_df.rename(columns={\"净值日期\": \"datetime\", \"累计净值\": \"close\"}, inplace=True)\n",
    "medical_df[\"close\"] = medical_df[\"close\"].astype(float)\n",
    "# medical_df[\"open\"] = medical_df[\"high\"] = medical_df[\"low\"] = medical_df[\"close\"]\n",
    "# medical_df[\"volume\"] = 0\n",
    "medical_df.reset_index(inplace=True)\n",
    "medical_df['datetime'] = pd.to_datetime(medical_df['datetime'])\n",
    "medical_df.set_index(\"datetime\", inplace=True)\n",
    "medical_df.drop(\"index\", axis=1, inplace=True)\n",
    "\n",
    "# 转换为 vectorbt Series\n",
    "close = vbt.Series.from_pandas(medical_df['close'])\n",
    "\n",
    "# 计算收益率\n",
    "returns = close.pct_change()\n",
    "\n",
    "# 计算年化收益率\n",
    "annualized_return = returns.mean() * 252\n",
    "\n",
    "# 打印结果\n",
    "print(annualized_return)"
   ],
   "outputs": [
    {
     "ename": "AttributeError",
     "evalue": "module 'vectorbt' has no attribute 'Series'",
     "output_type": "error",
     "traceback": [
      "\u001B[1;31m---------------------------------------------------------------------------\u001B[0m",
      "\u001B[1;31mAttributeError\u001B[0m                            Traceback (most recent call last)",
      "Cell \u001B[1;32mIn[1], line 19\u001B[0m\n\u001B[0;32m     16\u001B[0m medical_df\u001B[38;5;241m.\u001B[39mdrop(\u001B[38;5;124m\"\u001B[39m\u001B[38;5;124mindex\u001B[39m\u001B[38;5;124m\"\u001B[39m, axis\u001B[38;5;241m=\u001B[39m\u001B[38;5;241m1\u001B[39m, inplace\u001B[38;5;241m=\u001B[39m\u001B[38;5;28;01mTrue\u001B[39;00m)\n\u001B[0;32m     18\u001B[0m \u001B[38;5;66;03m# 转换为 vectorbt Series\u001B[39;00m\n\u001B[1;32m---> 19\u001B[0m close \u001B[38;5;241m=\u001B[39m \u001B[43mvbt\u001B[49m\u001B[38;5;241;43m.\u001B[39;49m\u001B[43mSeries\u001B[49m\u001B[38;5;241m.\u001B[39mfrom_pandas(medical_df[\u001B[38;5;124m'\u001B[39m\u001B[38;5;124mclose\u001B[39m\u001B[38;5;124m'\u001B[39m])\n\u001B[0;32m     21\u001B[0m \u001B[38;5;66;03m# 计算收益率\u001B[39;00m\n\u001B[0;32m     22\u001B[0m returns \u001B[38;5;241m=\u001B[39m close\u001B[38;5;241m.\u001B[39mpct_change()\n",
      "\u001B[1;31mAttributeError\u001B[0m: module 'vectorbt' has no attribute 'Series'"
     ]
    }
   ],
   "execution_count": 1
  },
  {
   "metadata": {
    "ExecuteTime": {
     "end_time": "2024-09-12T16:38:51.454802Z",
     "start_time": "2024-09-12T16:38:51.193183Z"
    }
   },
   "cell_type": "code",
   "source": [
    "import pandas as pd\n",
    "import vectorbt as vbt\n",
    "import akshare as ak\n",
    "import backtrader as bt\n",
    "import pandas as pd\n",
    "\n",
    "medical_df = ak.fund_open_fund_info_em(fund=\"000369\", indicator=\"累计净值走势\")  # 广发全球医疗A\n",
    "\n",
    "medical_df.rename(columns={\"净值日期\": \"datetime\", \"累计净值\": \"close\"}, inplace=True)\n",
    "medical_df[\"close\"] = medical_df[\"close\"].astype(float)\n",
    "# medical_df[\"open\"] = medical_df[\"high\"] = medical_df[\"low\"] = medical_df[\"close\"]\n",
    "# medical_df[\"volume\"] = 0\n",
    "medical_df.reset_index(inplace=True)\n",
    "medical_df['datetime'] = pd.to_datetime(medical_df['datetime'])\n",
    "medical_df.set_index(\"datetime\", inplace=True)\n",
    "medical_df.drop(\"index\", axis=1, inplace=True)\n",
    "# 创建vectorbt的数据对象\n",
    "price_data = vbt.Data.from_dataframe(medical_df)\n",
    "\n",
    "# 进行简单的矩阵计算 - 计算每日收益率\n",
    "returns = price_data.df.pct_change()\n",
    "\n",
    "# 计算协方差矩阵\n",
    "cov_matrix = returns.cov()\n",
    "\n",
    "print(\"每日收益率：\")\n",
    "print(returns)\n",
    "\n",
    "print(\"\\n协方差矩阵：\")\n",
    "print(cov_matrix)\n"
   ],
   "id": "16ea9209685f4df1",
   "outputs": [
    {
     "ename": "AttributeError",
     "evalue": "type object 'Data' has no attribute 'from_dataframe'",
     "output_type": "error",
     "traceback": [
      "\u001B[1;31m---------------------------------------------------------------------------\u001B[0m",
      "\u001B[1;31mAttributeError\u001B[0m                            Traceback (most recent call last)",
      "Cell \u001B[1;32mIn[3], line 18\u001B[0m\n\u001B[0;32m     16\u001B[0m medical_df\u001B[38;5;241m.\u001B[39mdrop(\u001B[38;5;124m\"\u001B[39m\u001B[38;5;124mindex\u001B[39m\u001B[38;5;124m\"\u001B[39m, axis\u001B[38;5;241m=\u001B[39m\u001B[38;5;241m1\u001B[39m, inplace\u001B[38;5;241m=\u001B[39m\u001B[38;5;28;01mTrue\u001B[39;00m)\n\u001B[0;32m     17\u001B[0m \u001B[38;5;66;03m# 创建vectorbt的数据对象\u001B[39;00m\n\u001B[1;32m---> 18\u001B[0m price_data \u001B[38;5;241m=\u001B[39m \u001B[43mvbt\u001B[49m\u001B[38;5;241;43m.\u001B[39;49m\u001B[43mData\u001B[49m\u001B[38;5;241;43m.\u001B[39;49m\u001B[43mfrom_dataframe\u001B[49m(medical_df)\n\u001B[0;32m     20\u001B[0m \u001B[38;5;66;03m# 进行简单的矩阵计算 - 计算每日收益率\u001B[39;00m\n\u001B[0;32m     21\u001B[0m returns \u001B[38;5;241m=\u001B[39m price_data\u001B[38;5;241m.\u001B[39mdf\u001B[38;5;241m.\u001B[39mpct_change()\n",
      "\u001B[1;31mAttributeError\u001B[0m: type object 'Data' has no attribute 'from_dataframe'"
     ]
    }
   ],
   "execution_count": 3
  },
  {
   "metadata": {
    "ExecuteTime": {
     "end_time": "2024-09-12T16:40:02.718486Z",
     "start_time": "2024-09-12T16:40:02.436508Z"
    }
   },
   "cell_type": "code",
   "source": [
    "# deepseek\n",
    "\n",
    "import pandas as pd\n",
    "import vectorbt as vbt\n",
    "import akshare as ak\n",
    "import backtrader as bt\n",
    "import pandas as pd\n",
    "\n",
    "medical_df = ak.fund_open_fund_info_em(fund=\"000369\", indicator=\"累计净值走势\")  # 广发全球医疗A\n",
    "\n",
    "medical_df.rename(columns={\"净值日期\": \"datetime\", \"累计净值\": \"close\"}, inplace=True)\n",
    "medical_df[\"close\"] = medical_df[\"close\"].astype(float)\n",
    "# medical_df[\"open\"] = medical_df[\"high\"] = medical_df[\"low\"] = medical_df[\"close\"]\n",
    "# medical_df[\"volume\"] = 0\n",
    "medical_df.reset_index(inplace=True)\n",
    "medical_df['datetime'] = pd.to_datetime(medical_df['datetime'])\n",
    "medical_df.set_index(\"datetime\", inplace=True)\n",
    "medical_df.drop(\"index\", axis=1, inplace=True)\n",
    "\n",
    "# 将 DataFrame 转换为 vectorbt 的 DataClass\n",
    "vbt_df = vbt.Data(medical_df)\n",
    "vbt_df"
   ],
   "id": "658cbd87c1e3f512",
   "outputs": [
    {
     "ename": "TypeError",
     "evalue": "Data.__init__() missing 6 required positional arguments: 'data', 'tz_localize', 'tz_convert', 'missing_index', 'missing_columns', and 'download_kwargs'",
     "output_type": "error",
     "traceback": [
      "\u001B[1;31m---------------------------------------------------------------------------\u001B[0m",
      "\u001B[1;31mTypeError\u001B[0m                                 Traceback (most recent call last)",
      "Cell \u001B[1;32mIn[4], line 21\u001B[0m\n\u001B[0;32m     18\u001B[0m medical_df\u001B[38;5;241m.\u001B[39mdrop(\u001B[38;5;124m\"\u001B[39m\u001B[38;5;124mindex\u001B[39m\u001B[38;5;124m\"\u001B[39m, axis\u001B[38;5;241m=\u001B[39m\u001B[38;5;241m1\u001B[39m, inplace\u001B[38;5;241m=\u001B[39m\u001B[38;5;28;01mTrue\u001B[39;00m)\n\u001B[0;32m     20\u001B[0m \u001B[38;5;66;03m# 将 DataFrame 转换为 vectorbt 的 DataClass\u001B[39;00m\n\u001B[1;32m---> 21\u001B[0m vbt_df \u001B[38;5;241m=\u001B[39m \u001B[43mvbt\u001B[49m\u001B[38;5;241;43m.\u001B[39;49m\u001B[43mData\u001B[49m\u001B[43m(\u001B[49m\u001B[43mmedical_df\u001B[49m\u001B[43m)\u001B[49m\n\u001B[0;32m     22\u001B[0m vbt_df\n",
      "\u001B[1;31mTypeError\u001B[0m: Data.__init__() missing 6 required positional arguments: 'data', 'tz_localize', 'tz_convert', 'missing_index', 'missing_columns', and 'download_kwargs'"
     ]
    }
   ],
   "execution_count": 4
  },
  {
   "metadata": {
    "ExecuteTime": {
     "end_time": "2024-09-12T16:40:55.521675Z",
     "start_time": "2024-09-12T16:40:55.498372Z"
    }
   },
   "cell_type": "code",
   "source": [
    "import pandas as pd\n",
    "import numpy as np\n",
    "import vectorbt as vbt\n",
    "\n",
    "# 创建示例数据\n",
    "dates = pd.date_range('2023-01-01', periods=100, freq='D')\n",
    "data = pd.DataFrame({\n",
    "    'AAPL': np.random.randn(100).cumsum() + 100,\n",
    "    'GOOGL': np.random.randn(100).cumsum() + 150,\n",
    "    'MSFT': np.random.randn(100).cumsum() + 200\n",
    "}, index=dates)\n",
    "\n",
    "# 使用vectorbt加载数据\n",
    "vbt_data = vbt.Data.from_pandas(data)\n",
    "\n",
    "# 执行矩阵计算\n",
    "# 1. 计算每日收益率\n",
    "returns = vbt_data.pct_change()\n",
    "\n",
    "# 2. 计算累积收益\n",
    "cumulative_returns = (1 + returns).cumprod() - 1\n",
    "\n",
    "# 3. 计算移动平均\n",
    "ma_10 = vbt_data.rolling_mean(window=10)\n",
    "ma_30 = vbt_data.rolling_mean(window=30)\n",
    "\n",
    "# 4. 计算波动率\n",
    "volatility = returns.rolling_std(window=20) * np.sqrt(252)\n",
    "\n",
    "# 打印结果\n",
    "print(\"每日收益率:\")\n",
    "print(returns.data.tail())\n",
    "print(\"\\n累积收益:\")\n",
    "print(cumulative_returns.data.tail())\n",
    "print(\"\\n10日移动平均:\")\n",
    "print(ma_10.data.tail())\n",
    "print(\"\\n30日移动平均:\")\n",
    "print(ma_30.data.tail())\n",
    "print(\"\\n年化波动率:\")\n",
    "print(volatility.data.tail())"
   ],
   "id": "214bd54d011b3dc7",
   "outputs": [
    {
     "ename": "AttributeError",
     "evalue": "type object 'Data' has no attribute 'from_pandas'",
     "output_type": "error",
     "traceback": [
      "\u001B[1;31m---------------------------------------------------------------------------\u001B[0m",
      "\u001B[1;31mAttributeError\u001B[0m                            Traceback (most recent call last)",
      "Cell \u001B[1;32mIn[5], line 14\u001B[0m\n\u001B[0;32m      7\u001B[0m data \u001B[38;5;241m=\u001B[39m pd\u001B[38;5;241m.\u001B[39mDataFrame({\n\u001B[0;32m      8\u001B[0m     \u001B[38;5;124m'\u001B[39m\u001B[38;5;124mAAPL\u001B[39m\u001B[38;5;124m'\u001B[39m: np\u001B[38;5;241m.\u001B[39mrandom\u001B[38;5;241m.\u001B[39mrandn(\u001B[38;5;241m100\u001B[39m)\u001B[38;5;241m.\u001B[39mcumsum() \u001B[38;5;241m+\u001B[39m \u001B[38;5;241m100\u001B[39m,\n\u001B[0;32m      9\u001B[0m     \u001B[38;5;124m'\u001B[39m\u001B[38;5;124mGOOGL\u001B[39m\u001B[38;5;124m'\u001B[39m: np\u001B[38;5;241m.\u001B[39mrandom\u001B[38;5;241m.\u001B[39mrandn(\u001B[38;5;241m100\u001B[39m)\u001B[38;5;241m.\u001B[39mcumsum() \u001B[38;5;241m+\u001B[39m \u001B[38;5;241m150\u001B[39m,\n\u001B[0;32m     10\u001B[0m     \u001B[38;5;124m'\u001B[39m\u001B[38;5;124mMSFT\u001B[39m\u001B[38;5;124m'\u001B[39m: np\u001B[38;5;241m.\u001B[39mrandom\u001B[38;5;241m.\u001B[39mrandn(\u001B[38;5;241m100\u001B[39m)\u001B[38;5;241m.\u001B[39mcumsum() \u001B[38;5;241m+\u001B[39m \u001B[38;5;241m200\u001B[39m\n\u001B[0;32m     11\u001B[0m }, index\u001B[38;5;241m=\u001B[39mdates)\n\u001B[0;32m     13\u001B[0m \u001B[38;5;66;03m# 使用vectorbt加载数据\u001B[39;00m\n\u001B[1;32m---> 14\u001B[0m vbt_data \u001B[38;5;241m=\u001B[39m \u001B[43mvbt\u001B[49m\u001B[38;5;241;43m.\u001B[39;49m\u001B[43mData\u001B[49m\u001B[38;5;241;43m.\u001B[39;49m\u001B[43mfrom_pandas\u001B[49m(data)\n\u001B[0;32m     16\u001B[0m \u001B[38;5;66;03m# 执行矩阵计算\u001B[39;00m\n\u001B[0;32m     17\u001B[0m \u001B[38;5;66;03m# 1. 计算每日收益率\u001B[39;00m\n\u001B[0;32m     18\u001B[0m returns \u001B[38;5;241m=\u001B[39m vbt_data\u001B[38;5;241m.\u001B[39mpct_change()\n",
      "\u001B[1;31mAttributeError\u001B[0m: type object 'Data' has no attribute 'from_pandas'"
     ]
    }
   ],
   "execution_count": 5
  },
  {
   "metadata": {
    "ExecuteTime": {
     "end_time": "2024-09-12T16:41:38.550614Z",
     "start_time": "2024-09-12T16:41:37.177260Z"
    }
   },
   "cell_type": "code",
   "source": [
    "import pandas as pd\n",
    "import numpy as np\n",
    "import vectorbt as vbt\n",
    "\n",
    "# 创建示例数据\n",
    "dates = pd.date_range('2023-01-01', periods=100, freq='D')\n",
    "data = pd.DataFrame({\n",
    "    'AAPL': np.random.randn(100).cumsum() + 100,\n",
    "    'GOOGL': np.random.randn(100).cumsum() + 150,\n",
    "    'MSFT': np.random.randn(100).cumsum() + 200\n",
    "}, index=dates)\n",
    "\n",
    "# 使用vectorbt加载数据\n",
    "# 在新版本中，我们直接使用pandas DataFrame，不需要特殊的加载步骤\n",
    "\n",
    "# 执行矩阵计算\n",
    "# 1. 计算每日收益率\n",
    "returns = data.pct_change()\n",
    "\n",
    "# 2. 计算累积收益\n",
    "cumulative_returns = (1 + returns).cumprod() - 1\n",
    "\n",
    "# 3. 计算移动平均\n",
    "ma_10 = data.vbt.rolling_mean(window=10)\n",
    "ma_30 = data.vbt.rolling_mean(window=30)\n",
    "\n",
    "# 4. 计算波动率\n",
    "volatility = returns.vbt.rolling_std(window=20) * np.sqrt(252)\n",
    "\n",
    "# 打印结果\n",
    "print(\"每日收益率:\")\n",
    "print(returns.tail())\n",
    "print(\"\\n累积收益:\")\n",
    "print(cumulative_returns.tail())\n",
    "print(\"\\n10日移动平均:\")\n",
    "print(ma_10.tail())\n",
    "print(\"\\n30日移动平均:\")\n",
    "print(ma_30.tail())\n",
    "print(\"\\n年化波动率:\")\n",
    "print(volatility.tail())"
   ],
   "id": "8d5341a9a7997ee9",
   "outputs": [
    {
     "name": "stdout",
     "output_type": "stream",
     "text": [
      "每日收益率:\n",
      "                AAPL     GOOGL      MSFT\n",
      "2023-04-06  0.004686  0.000133 -0.010994\n",
      "2023-04-07  0.000729 -0.005224  0.003425\n",
      "2023-04-08  0.010508 -0.012189 -0.002306\n",
      "2023-04-09 -0.018894 -0.000980 -0.002481\n",
      "2023-04-10 -0.018801 -0.000769  0.010654\n",
      "\n",
      "累积收益:\n",
      "                AAPL     GOOGL      MSFT\n",
      "2023-04-06 -0.115644 -0.016230  0.052369\n",
      "2023-04-07 -0.114999 -0.021368  0.055974\n",
      "2023-04-08 -0.105699 -0.033297  0.053539\n",
      "2023-04-09 -0.122596 -0.034245  0.050925\n",
      "2023-04-10 -0.139092 -0.034987  0.062121\n",
      "\n",
      "10日移动平均:\n",
      "                 AAPL       GOOGL        MSFT\n",
      "2023-04-06  90.557883  147.237886  207.318583\n",
      "2023-04-07  90.191222  147.064945  207.716663\n",
      "2023-04-08  89.820424  146.757683  208.015333\n",
      "2023-04-09  89.081968  146.379184  208.283036\n",
      "2023-04-10  88.366395  145.947421  208.777149\n",
      "\n",
      "30日移动平均:\n",
      "                 AAPL       GOOGL        MSFT\n",
      "2023-04-06  93.171096  144.555322  208.603154\n",
      "2023-04-07  92.818103  144.689158  208.659935\n",
      "2023-04-08  92.509388  144.763923  208.651121\n",
      "2023-04-09  92.201395  144.841334  208.629098\n",
      "2023-04-10  91.814610  144.876179  208.688915\n",
      "\n",
      "年化波动率:\n",
      "                AAPL     GOOGL      MSFT\n",
      "2023-04-06  0.187344  0.089954  0.084908\n",
      "2023-04-07  0.187291  0.092665  0.085559\n",
      "2023-04-08  0.191640  0.097994  0.085560\n",
      "2023-04-09  0.199972  0.094452  0.084517\n",
      "2023-04-10  0.203849  0.094411  0.082960\n"
     ]
    }
   ],
   "execution_count": 6
  },
  {
   "metadata": {
    "ExecuteTime": {
     "end_time": "2024-09-12T16:42:20.927188Z",
     "start_time": "2024-09-12T16:42:20.920217Z"
    }
   },
   "cell_type": "code",
   "source": "ma_10",
   "id": "6c4e07a8a504e5b0",
   "outputs": [
    {
     "data": {
      "text/plain": [
       "                 AAPL       GOOGL        MSFT\n",
       "2023-01-01        NaN         NaN         NaN\n",
       "2023-01-02        NaN         NaN         NaN\n",
       "2023-01-03        NaN         NaN         NaN\n",
       "2023-01-04        NaN         NaN         NaN\n",
       "2023-01-05        NaN         NaN         NaN\n",
       "...               ...         ...         ...\n",
       "2023-04-06  90.557883  147.237886  207.318583\n",
       "2023-04-07  90.191222  147.064945  207.716663\n",
       "2023-04-08  89.820424  146.757683  208.015333\n",
       "2023-04-09  89.081968  146.379184  208.283036\n",
       "2023-04-10  88.366395  145.947421  208.777149\n",
       "\n",
       "[100 rows x 3 columns]"
      ],
      "text/html": [
       "<div>\n",
       "<style scoped>\n",
       "    .dataframe tbody tr th:only-of-type {\n",
       "        vertical-align: middle;\n",
       "    }\n",
       "\n",
       "    .dataframe tbody tr th {\n",
       "        vertical-align: top;\n",
       "    }\n",
       "\n",
       "    .dataframe thead th {\n",
       "        text-align: right;\n",
       "    }\n",
       "</style>\n",
       "<table border=\"1\" class=\"dataframe\">\n",
       "  <thead>\n",
       "    <tr style=\"text-align: right;\">\n",
       "      <th></th>\n",
       "      <th>AAPL</th>\n",
       "      <th>GOOGL</th>\n",
       "      <th>MSFT</th>\n",
       "    </tr>\n",
       "  </thead>\n",
       "  <tbody>\n",
       "    <tr>\n",
       "      <th>2023-01-01</th>\n",
       "      <td>NaN</td>\n",
       "      <td>NaN</td>\n",
       "      <td>NaN</td>\n",
       "    </tr>\n",
       "    <tr>\n",
       "      <th>2023-01-02</th>\n",
       "      <td>NaN</td>\n",
       "      <td>NaN</td>\n",
       "      <td>NaN</td>\n",
       "    </tr>\n",
       "    <tr>\n",
       "      <th>2023-01-03</th>\n",
       "      <td>NaN</td>\n",
       "      <td>NaN</td>\n",
       "      <td>NaN</td>\n",
       "    </tr>\n",
       "    <tr>\n",
       "      <th>2023-01-04</th>\n",
       "      <td>NaN</td>\n",
       "      <td>NaN</td>\n",
       "      <td>NaN</td>\n",
       "    </tr>\n",
       "    <tr>\n",
       "      <th>2023-01-05</th>\n",
       "      <td>NaN</td>\n",
       "      <td>NaN</td>\n",
       "      <td>NaN</td>\n",
       "    </tr>\n",
       "    <tr>\n",
       "      <th>...</th>\n",
       "      <td>...</td>\n",
       "      <td>...</td>\n",
       "      <td>...</td>\n",
       "    </tr>\n",
       "    <tr>\n",
       "      <th>2023-04-06</th>\n",
       "      <td>90.557883</td>\n",
       "      <td>147.237886</td>\n",
       "      <td>207.318583</td>\n",
       "    </tr>\n",
       "    <tr>\n",
       "      <th>2023-04-07</th>\n",
       "      <td>90.191222</td>\n",
       "      <td>147.064945</td>\n",
       "      <td>207.716663</td>\n",
       "    </tr>\n",
       "    <tr>\n",
       "      <th>2023-04-08</th>\n",
       "      <td>89.820424</td>\n",
       "      <td>146.757683</td>\n",
       "      <td>208.015333</td>\n",
       "    </tr>\n",
       "    <tr>\n",
       "      <th>2023-04-09</th>\n",
       "      <td>89.081968</td>\n",
       "      <td>146.379184</td>\n",
       "      <td>208.283036</td>\n",
       "    </tr>\n",
       "    <tr>\n",
       "      <th>2023-04-10</th>\n",
       "      <td>88.366395</td>\n",
       "      <td>145.947421</td>\n",
       "      <td>208.777149</td>\n",
       "    </tr>\n",
       "  </tbody>\n",
       "</table>\n",
       "<p>100 rows × 3 columns</p>\n",
       "</div>"
      ]
     },
     "execution_count": 8,
     "metadata": {},
     "output_type": "execute_result"
    }
   ],
   "execution_count": 8
  }
 ],
 "metadata": {
  "kernelspec": {
   "display_name": "Python 3",
   "language": "python",
   "name": "python3"
  },
  "language_info": {
   "codemirror_mode": {
    "name": "ipython",
    "version": 2
   },
   "file_extension": ".py",
   "mimetype": "text/x-python",
   "name": "python",
   "nbconvert_exporter": "python",
   "pygments_lexer": "ipython2",
   "version": "2.7.6"
  }
 },
 "nbformat": 4,
 "nbformat_minor": 5
}
